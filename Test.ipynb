{
 "cells": [
  {
   "cell_type": "code",
   "execution_count": 2,
   "metadata": {},
   "outputs": [],
   "source": [
    "import numpy as np\n",
    "import pandas as pd\n",
    "import matplotlib.pyplot as plt\n",
    "import seaborn as sns\n",
    "import plotly.graph_objects as go\n",
    "import plotly.express as px\n"
   ]
  },
  {
   "cell_type": "code",
   "execution_count": 3,
   "metadata": {
    "pycharm": {
     "name": "#%%\n"
    }
   },
   "outputs": [],
   "source": [
    "eletricity_share = pd.read_csv('share-electricity-renewables.csv')"
   ]
  },
  {
   "cell_type": "code",
   "execution_count": 4,
   "metadata": {
    "pycharm": {
     "name": "#%%\n"
    }
   },
   "outputs": [
    {
     "data": {
      "text/plain": "        Entity Code  Year  Renewables (% electricity)\n0  Afghanistan  AFG  2000                   66.809422\n1  Afghanistan  AFG  2001                   84.121622\n2  Afghanistan  AFG  2002                   80.786026\n3  Afghanistan  AFG  2003                   67.092652\n4  Afghanistan  AFG  2004                   63.199105",
      "text/html": "<div>\n<style scoped>\n    .dataframe tbody tr th:only-of-type {\n        vertical-align: middle;\n    }\n\n    .dataframe tbody tr th {\n        vertical-align: top;\n    }\n\n    .dataframe thead th {\n        text-align: right;\n    }\n</style>\n<table border=\"1\" class=\"dataframe\">\n  <thead>\n    <tr style=\"text-align: right;\">\n      <th></th>\n      <th>Entity</th>\n      <th>Code</th>\n      <th>Year</th>\n      <th>Renewables (% electricity)</th>\n    </tr>\n  </thead>\n  <tbody>\n    <tr>\n      <th>0</th>\n      <td>Afghanistan</td>\n      <td>AFG</td>\n      <td>2000</td>\n      <td>66.809422</td>\n    </tr>\n    <tr>\n      <th>1</th>\n      <td>Afghanistan</td>\n      <td>AFG</td>\n      <td>2001</td>\n      <td>84.121622</td>\n    </tr>\n    <tr>\n      <th>2</th>\n      <td>Afghanistan</td>\n      <td>AFG</td>\n      <td>2002</td>\n      <td>80.786026</td>\n    </tr>\n    <tr>\n      <th>3</th>\n      <td>Afghanistan</td>\n      <td>AFG</td>\n      <td>2003</td>\n      <td>67.092652</td>\n    </tr>\n    <tr>\n      <th>4</th>\n      <td>Afghanistan</td>\n      <td>AFG</td>\n      <td>2004</td>\n      <td>63.199105</td>\n    </tr>\n  </tbody>\n</table>\n</div>"
     },
     "execution_count": 4,
     "metadata": {},
     "output_type": "execute_result"
    }
   ],
   "source": [
    "eletricity_share.head()"
   ]
  },
  {
   "cell_type": "code",
   "execution_count": 5,
   "metadata": {
    "pycharm": {
     "name": "#%%\n"
    }
   },
   "outputs": [
    {
     "name": "stdout",
     "output_type": "stream",
     "text": [
      "Entity\n",
      "Code\n",
      "Year\n",
      "Renewables (% electricity)\n"
     ]
    }
   ],
   "source": [
    "for col in eletricity_share.columns:\n",
    "    print(col)"
   ]
  },
  {
   "cell_type": "code",
   "execution_count": 6,
   "metadata": {
    "pycharm": {
     "name": "#%%\n"
    }
   },
   "outputs": [],
   "source": [
    "eletricity_share = eletricity_share.rename(columns={'Renewables (% electricity)': 'Percentage'})"
   ]
  },
  {
   "cell_type": "code",
   "execution_count": 7,
   "metadata": {
    "pycharm": {
     "name": "#%%\n"
    }
   },
   "outputs": [],
   "source": [
    "name_of_interes = (\"World\", \"Europe\",\"Africa\")\n",
    "df = eletricity_share.loc[eletricity_share['Entity'].isin(name_of_interes)]\n"
   ]
  },
  {
   "cell_type": "code",
   "execution_count": 8,
   "metadata": {
    "pycharm": {
     "name": "#%%\n"
    }
   },
   "outputs": [
    {
     "data": {
      "text/plain": "Entity  Year     Africa     Europe      World\n0       1985  19.197453  17.824907  20.827970\n1       1986  19.179015  16.943851  20.565147\n2       1987  17.738723  17.819716  19.931413\n3       1988  18.361077  18.575463  19.700456\n4       1989  18.553275  15.905337  18.833337",
      "text/html": "<div>\n<style scoped>\n    .dataframe tbody tr th:only-of-type {\n        vertical-align: middle;\n    }\n\n    .dataframe tbody tr th {\n        vertical-align: top;\n    }\n\n    .dataframe thead th {\n        text-align: right;\n    }\n</style>\n<table border=\"1\" class=\"dataframe\">\n  <thead>\n    <tr style=\"text-align: right;\">\n      <th>Entity</th>\n      <th>Year</th>\n      <th>Africa</th>\n      <th>Europe</th>\n      <th>World</th>\n    </tr>\n  </thead>\n  <tbody>\n    <tr>\n      <th>0</th>\n      <td>1985</td>\n      <td>19.197453</td>\n      <td>17.824907</td>\n      <td>20.827970</td>\n    </tr>\n    <tr>\n      <th>1</th>\n      <td>1986</td>\n      <td>19.179015</td>\n      <td>16.943851</td>\n      <td>20.565147</td>\n    </tr>\n    <tr>\n      <th>2</th>\n      <td>1987</td>\n      <td>17.738723</td>\n      <td>17.819716</td>\n      <td>19.931413</td>\n    </tr>\n    <tr>\n      <th>3</th>\n      <td>1988</td>\n      <td>18.361077</td>\n      <td>18.575463</td>\n      <td>19.700456</td>\n    </tr>\n    <tr>\n      <th>4</th>\n      <td>1989</td>\n      <td>18.553275</td>\n      <td>15.905337</td>\n      <td>18.833337</td>\n    </tr>\n  </tbody>\n</table>\n</div>"
     },
     "execution_count": 8,
     "metadata": {},
     "output_type": "execute_result"
    }
   ],
   "source": [
    "continents = df.pivot_table('Percentage', 'Year', 'Entity')\n",
    "continents.reset_index(inplace=True)\n",
    "continents.head()"
   ]
  },
  {
   "cell_type": "code",
   "execution_count": 12,
   "metadata": {
    "pycharm": {
     "name": "#%%\n"
    },
    "tags": []
   },
   "outputs": [
    {
     "data": {
      "application/vnd.plotly.v1+json": {
       "data": [
        {
         "hovertemplate": "Entity=Africa<br>Year=%{x}<br>value=%{y}<extra></extra>",
         "legendgroup": "Africa",
         "line": {
          "color": "#636efa",
          "dash": "solid"
         },
         "marker": {
          "symbol": "circle"
         },
         "mode": "lines",
         "name": "Africa",
         "orientation": "v",
         "showlegend": true,
         "x": [
          1985,
          1986,
          1987,
          1988,
          1989,
          1990,
          1991,
          1992,
          1993,
          1994,
          1995,
          1996,
          1997,
          1998,
          1999,
          2000,
          2001,
          2002,
          2003,
          2004,
          2005,
          2006,
          2007,
          2008,
          2009,
          2010,
          2011,
          2012,
          2013,
          2014,
          2015,
          2016,
          2017,
          2018,
          2019,
          2020
         ],
         "xaxis": "x",
         "y": [
          19.19745319464246,
          19.17901497120839,
          17.738722798728727,
          18.361077071973188,
          18.553274883980045,
          18.19271396247636,
          18.90457446520394,
          17.89052938430441,
          16.98092590164095,
          16.622295047078843,
          16.76072459787346,
          16.63655850797448,
          16.27506916637843,
          16.828841352113745,
          17.303885578880383,
          17.720553748100528,
          18.324694728553272,
          18.165971012203016,
          17.034694592630917,
          17.01190102466135,
          16.713492978791734,
          16.666534744380655,
          16.44186574474558,
          16.434417724849798,
          16.7464514198209,
          16.938335477106286,
          17.032946662040302,
          16.451398850136385,
          17.015323726741787,
          17.75770035772065,
          17.714020329858094,
          17.353015583996825,
          18.213955760809224,
          19.22277902192131,
          20.434774550016737,
          null
         ],
         "yaxis": "y",
         "type": "scatter"
        },
        {
         "hovertemplate": "Entity=Europe<br>Year=%{x}<br>value=%{y}<extra></extra>",
         "legendgroup": "Europe",
         "line": {
          "color": "#EF553B",
          "dash": "solid"
         },
         "marker": {
          "symbol": "circle"
         },
         "mode": "lines",
         "name": "Europe",
         "orientation": "v",
         "showlegend": true,
         "x": [
          1985,
          1986,
          1987,
          1988,
          1989,
          1990,
          1991,
          1992,
          1993,
          1994,
          1995,
          1996,
          1997,
          1998,
          1999,
          2000,
          2001,
          2002,
          2003,
          2004,
          2005,
          2006,
          2007,
          2008,
          2009,
          2010,
          2011,
          2012,
          2013,
          2014,
          2015,
          2016,
          2017,
          2018,
          2019,
          2020
         ],
         "xaxis": "x",
         "y": [
          17.824906740552617,
          16.943851494598583,
          17.819716114953852,
          18.57546287647826,
          15.905336656114269,
          16.2538329474638,
          16.520669050633856,
          17.299865890871338,
          18.13267222234574,
          18.29944584944155,
          18.15162584789362,
          17.28301433466239,
          17.901060061205627,
          18.499862279350086,
          18.539094710569696,
          18.8544374263902,
          18.563958034711845,
          17.514843039209268,
          16.59542314683052,
          17.932060647720476,
          18.25769050578659,
          18.349404491191702,
          19.01649832347745,
          20.347796097584183,
          22.083069954590897,
          23.695380443235685,
          23.61495107961605,
          26.51533238967336,
          29.060482822878715,
          30.24596000222696,
          31.666716636377306,
          32.061604842156015,
          32.03840615623388,
          34.461267613873105,
          36.78928854313682,
          null
         ],
         "yaxis": "y",
         "type": "scatter"
        },
        {
         "hovertemplate": "Entity=World<br>Year=%{x}<br>value=%{y}<extra></extra>",
         "legendgroup": "World",
         "line": {
          "color": "#00cc96",
          "dash": "solid"
         },
         "marker": {
          "symbol": "circle"
         },
         "mode": "lines",
         "name": "World",
         "orientation": "v",
         "showlegend": true,
         "x": [
          1985,
          1986,
          1987,
          1988,
          1989,
          1990,
          1991,
          1992,
          1993,
          1994,
          1995,
          1996,
          1997,
          1998,
          1999,
          2000,
          2001,
          2002,
          2003,
          2004,
          2005,
          2006,
          2007,
          2008,
          2009,
          2010,
          2011,
          2012,
          2013,
          2014,
          2015,
          2016,
          2017,
          2018,
          2019,
          2020
         ],
         "xaxis": "x",
         "y": [
          20.827969521907374,
          20.56514729598425,
          19.931412875356838,
          19.700455500278512,
          18.833336766784527,
          19.06673997737181,
          19.118389931967226,
          19.02061128277733,
          19.717434386869133,
          19.39363040196318,
          19.74471007476652,
          19.44255344079176,
          19.40586262777741,
          19.11682902205416,
          18.80474048641157,
          19.37485419957388,
          18.68307698598978,
          18.48353103963762,
          18.11712455111594,
          18.48864808120664,
          18.68801502139917,
          18.70894432220132,
          18.413842241167767,
          19.169401286059145,
          19.814134694513672,
          20.06067336575796,
          20.39520827087589,
          21.535789692432168,
          22.303957036845016,
          23.12176132620389,
          23.618850033117795,
          24.661660700057773,
          25.543013128850216,
          26.26046773111056,
          27.278540836059783,
          28.984634509327563
         ],
         "yaxis": "y",
         "type": "scatter"
        }
       ],
       "layout": {
        "template": {
         "data": {
          "bar": [
           {
            "error_x": {
             "color": "#2a3f5f"
            },
            "error_y": {
             "color": "#2a3f5f"
            },
            "marker": {
             "line": {
              "color": "#E5ECF6",
              "width": 0.5
             },
             "pattern": {
              "fillmode": "overlay",
              "size": 10,
              "solidity": 0.2
             }
            },
            "type": "bar"
           }
          ],
          "barpolar": [
           {
            "marker": {
             "line": {
              "color": "#E5ECF6",
              "width": 0.5
             },
             "pattern": {
              "fillmode": "overlay",
              "size": 10,
              "solidity": 0.2
             }
            },
            "type": "barpolar"
           }
          ],
          "carpet": [
           {
            "aaxis": {
             "endlinecolor": "#2a3f5f",
             "gridcolor": "white",
             "linecolor": "white",
             "minorgridcolor": "white",
             "startlinecolor": "#2a3f5f"
            },
            "baxis": {
             "endlinecolor": "#2a3f5f",
             "gridcolor": "white",
             "linecolor": "white",
             "minorgridcolor": "white",
             "startlinecolor": "#2a3f5f"
            },
            "type": "carpet"
           }
          ],
          "choropleth": [
           {
            "colorbar": {
             "outlinewidth": 0,
             "ticks": ""
            },
            "type": "choropleth"
           }
          ],
          "contour": [
           {
            "colorbar": {
             "outlinewidth": 0,
             "ticks": ""
            },
            "colorscale": [
             [
              0.0,
              "#0d0887"
             ],
             [
              0.1111111111111111,
              "#46039f"
             ],
             [
              0.2222222222222222,
              "#7201a8"
             ],
             [
              0.3333333333333333,
              "#9c179e"
             ],
             [
              0.4444444444444444,
              "#bd3786"
             ],
             [
              0.5555555555555556,
              "#d8576b"
             ],
             [
              0.6666666666666666,
              "#ed7953"
             ],
             [
              0.7777777777777778,
              "#fb9f3a"
             ],
             [
              0.8888888888888888,
              "#fdca26"
             ],
             [
              1.0,
              "#f0f921"
             ]
            ],
            "type": "contour"
           }
          ],
          "contourcarpet": [
           {
            "colorbar": {
             "outlinewidth": 0,
             "ticks": ""
            },
            "type": "contourcarpet"
           }
          ],
          "heatmap": [
           {
            "colorbar": {
             "outlinewidth": 0,
             "ticks": ""
            },
            "colorscale": [
             [
              0.0,
              "#0d0887"
             ],
             [
              0.1111111111111111,
              "#46039f"
             ],
             [
              0.2222222222222222,
              "#7201a8"
             ],
             [
              0.3333333333333333,
              "#9c179e"
             ],
             [
              0.4444444444444444,
              "#bd3786"
             ],
             [
              0.5555555555555556,
              "#d8576b"
             ],
             [
              0.6666666666666666,
              "#ed7953"
             ],
             [
              0.7777777777777778,
              "#fb9f3a"
             ],
             [
              0.8888888888888888,
              "#fdca26"
             ],
             [
              1.0,
              "#f0f921"
             ]
            ],
            "type": "heatmap"
           }
          ],
          "heatmapgl": [
           {
            "colorbar": {
             "outlinewidth": 0,
             "ticks": ""
            },
            "colorscale": [
             [
              0.0,
              "#0d0887"
             ],
             [
              0.1111111111111111,
              "#46039f"
             ],
             [
              0.2222222222222222,
              "#7201a8"
             ],
             [
              0.3333333333333333,
              "#9c179e"
             ],
             [
              0.4444444444444444,
              "#bd3786"
             ],
             [
              0.5555555555555556,
              "#d8576b"
             ],
             [
              0.6666666666666666,
              "#ed7953"
             ],
             [
              0.7777777777777778,
              "#fb9f3a"
             ],
             [
              0.8888888888888888,
              "#fdca26"
             ],
             [
              1.0,
              "#f0f921"
             ]
            ],
            "type": "heatmapgl"
           }
          ],
          "histogram": [
           {
            "marker": {
             "pattern": {
              "fillmode": "overlay",
              "size": 10,
              "solidity": 0.2
             }
            },
            "type": "histogram"
           }
          ],
          "histogram2d": [
           {
            "colorbar": {
             "outlinewidth": 0,
             "ticks": ""
            },
            "colorscale": [
             [
              0.0,
              "#0d0887"
             ],
             [
              0.1111111111111111,
              "#46039f"
             ],
             [
              0.2222222222222222,
              "#7201a8"
             ],
             [
              0.3333333333333333,
              "#9c179e"
             ],
             [
              0.4444444444444444,
              "#bd3786"
             ],
             [
              0.5555555555555556,
              "#d8576b"
             ],
             [
              0.6666666666666666,
              "#ed7953"
             ],
             [
              0.7777777777777778,
              "#fb9f3a"
             ],
             [
              0.8888888888888888,
              "#fdca26"
             ],
             [
              1.0,
              "#f0f921"
             ]
            ],
            "type": "histogram2d"
           }
          ],
          "histogram2dcontour": [
           {
            "colorbar": {
             "outlinewidth": 0,
             "ticks": ""
            },
            "colorscale": [
             [
              0.0,
              "#0d0887"
             ],
             [
              0.1111111111111111,
              "#46039f"
             ],
             [
              0.2222222222222222,
              "#7201a8"
             ],
             [
              0.3333333333333333,
              "#9c179e"
             ],
             [
              0.4444444444444444,
              "#bd3786"
             ],
             [
              0.5555555555555556,
              "#d8576b"
             ],
             [
              0.6666666666666666,
              "#ed7953"
             ],
             [
              0.7777777777777778,
              "#fb9f3a"
             ],
             [
              0.8888888888888888,
              "#fdca26"
             ],
             [
              1.0,
              "#f0f921"
             ]
            ],
            "type": "histogram2dcontour"
           }
          ],
          "mesh3d": [
           {
            "colorbar": {
             "outlinewidth": 0,
             "ticks": ""
            },
            "type": "mesh3d"
           }
          ],
          "parcoords": [
           {
            "line": {
             "colorbar": {
              "outlinewidth": 0,
              "ticks": ""
             }
            },
            "type": "parcoords"
           }
          ],
          "pie": [
           {
            "automargin": true,
            "type": "pie"
           }
          ],
          "scatter": [
           {
            "marker": {
             "colorbar": {
              "outlinewidth": 0,
              "ticks": ""
             }
            },
            "type": "scatter"
           }
          ],
          "scatter3d": [
           {
            "line": {
             "colorbar": {
              "outlinewidth": 0,
              "ticks": ""
             }
            },
            "marker": {
             "colorbar": {
              "outlinewidth": 0,
              "ticks": ""
             }
            },
            "type": "scatter3d"
           }
          ],
          "scattercarpet": [
           {
            "marker": {
             "colorbar": {
              "outlinewidth": 0,
              "ticks": ""
             }
            },
            "type": "scattercarpet"
           }
          ],
          "scattergeo": [
           {
            "marker": {
             "colorbar": {
              "outlinewidth": 0,
              "ticks": ""
             }
            },
            "type": "scattergeo"
           }
          ],
          "scattergl": [
           {
            "marker": {
             "colorbar": {
              "outlinewidth": 0,
              "ticks": ""
             }
            },
            "type": "scattergl"
           }
          ],
          "scattermapbox": [
           {
            "marker": {
             "colorbar": {
              "outlinewidth": 0,
              "ticks": ""
             }
            },
            "type": "scattermapbox"
           }
          ],
          "scatterpolar": [
           {
            "marker": {
             "colorbar": {
              "outlinewidth": 0,
              "ticks": ""
             }
            },
            "type": "scatterpolar"
           }
          ],
          "scatterpolargl": [
           {
            "marker": {
             "colorbar": {
              "outlinewidth": 0,
              "ticks": ""
             }
            },
            "type": "scatterpolargl"
           }
          ],
          "scatterternary": [
           {
            "marker": {
             "colorbar": {
              "outlinewidth": 0,
              "ticks": ""
             }
            },
            "type": "scatterternary"
           }
          ],
          "surface": [
           {
            "colorbar": {
             "outlinewidth": 0,
             "ticks": ""
            },
            "colorscale": [
             [
              0.0,
              "#0d0887"
             ],
             [
              0.1111111111111111,
              "#46039f"
             ],
             [
              0.2222222222222222,
              "#7201a8"
             ],
             [
              0.3333333333333333,
              "#9c179e"
             ],
             [
              0.4444444444444444,
              "#bd3786"
             ],
             [
              0.5555555555555556,
              "#d8576b"
             ],
             [
              0.6666666666666666,
              "#ed7953"
             ],
             [
              0.7777777777777778,
              "#fb9f3a"
             ],
             [
              0.8888888888888888,
              "#fdca26"
             ],
             [
              1.0,
              "#f0f921"
             ]
            ],
            "type": "surface"
           }
          ],
          "table": [
           {
            "cells": {
             "fill": {
              "color": "#EBF0F8"
             },
             "line": {
              "color": "white"
             }
            },
            "header": {
             "fill": {
              "color": "#C8D4E3"
             },
             "line": {
              "color": "white"
             }
            },
            "type": "table"
           }
          ]
         },
         "layout": {
          "annotationdefaults": {
           "arrowcolor": "#2a3f5f",
           "arrowhead": 0,
           "arrowwidth": 1
          },
          "autotypenumbers": "strict",
          "coloraxis": {
           "colorbar": {
            "outlinewidth": 0,
            "ticks": ""
           }
          },
          "colorscale": {
           "diverging": [
            [
             0,
             "#8e0152"
            ],
            [
             0.1,
             "#c51b7d"
            ],
            [
             0.2,
             "#de77ae"
            ],
            [
             0.3,
             "#f1b6da"
            ],
            [
             0.4,
             "#fde0ef"
            ],
            [
             0.5,
             "#f7f7f7"
            ],
            [
             0.6,
             "#e6f5d0"
            ],
            [
             0.7,
             "#b8e186"
            ],
            [
             0.8,
             "#7fbc41"
            ],
            [
             0.9,
             "#4d9221"
            ],
            [
             1,
             "#276419"
            ]
           ],
           "sequential": [
            [
             0.0,
             "#0d0887"
            ],
            [
             0.1111111111111111,
             "#46039f"
            ],
            [
             0.2222222222222222,
             "#7201a8"
            ],
            [
             0.3333333333333333,
             "#9c179e"
            ],
            [
             0.4444444444444444,
             "#bd3786"
            ],
            [
             0.5555555555555556,
             "#d8576b"
            ],
            [
             0.6666666666666666,
             "#ed7953"
            ],
            [
             0.7777777777777778,
             "#fb9f3a"
            ],
            [
             0.8888888888888888,
             "#fdca26"
            ],
            [
             1.0,
             "#f0f921"
            ]
           ],
           "sequentialminus": [
            [
             0.0,
             "#0d0887"
            ],
            [
             0.1111111111111111,
             "#46039f"
            ],
            [
             0.2222222222222222,
             "#7201a8"
            ],
            [
             0.3333333333333333,
             "#9c179e"
            ],
            [
             0.4444444444444444,
             "#bd3786"
            ],
            [
             0.5555555555555556,
             "#d8576b"
            ],
            [
             0.6666666666666666,
             "#ed7953"
            ],
            [
             0.7777777777777778,
             "#fb9f3a"
            ],
            [
             0.8888888888888888,
             "#fdca26"
            ],
            [
             1.0,
             "#f0f921"
            ]
           ]
          },
          "colorway": [
           "#636efa",
           "#EF553B",
           "#00cc96",
           "#ab63fa",
           "#FFA15A",
           "#19d3f3",
           "#FF6692",
           "#B6E880",
           "#FF97FF",
           "#FECB52"
          ],
          "font": {
           "color": "#2a3f5f"
          },
          "geo": {
           "bgcolor": "white",
           "lakecolor": "white",
           "landcolor": "#E5ECF6",
           "showlakes": true,
           "showland": true,
           "subunitcolor": "white"
          },
          "hoverlabel": {
           "align": "left"
          },
          "hovermode": "closest",
          "mapbox": {
           "style": "light"
          },
          "paper_bgcolor": "white",
          "plot_bgcolor": "#E5ECF6",
          "polar": {
           "angularaxis": {
            "gridcolor": "white",
            "linecolor": "white",
            "ticks": ""
           },
           "bgcolor": "#E5ECF6",
           "radialaxis": {
            "gridcolor": "white",
            "linecolor": "white",
            "ticks": ""
           }
          },
          "scene": {
           "xaxis": {
            "backgroundcolor": "#E5ECF6",
            "gridcolor": "white",
            "gridwidth": 2,
            "linecolor": "white",
            "showbackground": true,
            "ticks": "",
            "zerolinecolor": "white"
           },
           "yaxis": {
            "backgroundcolor": "#E5ECF6",
            "gridcolor": "white",
            "gridwidth": 2,
            "linecolor": "white",
            "showbackground": true,
            "ticks": "",
            "zerolinecolor": "white"
           },
           "zaxis": {
            "backgroundcolor": "#E5ECF6",
            "gridcolor": "white",
            "gridwidth": 2,
            "linecolor": "white",
            "showbackground": true,
            "ticks": "",
            "zerolinecolor": "white"
           }
          },
          "shapedefaults": {
           "line": {
            "color": "#2a3f5f"
           }
          },
          "ternary": {
           "aaxis": {
            "gridcolor": "white",
            "linecolor": "white",
            "ticks": ""
           },
           "baxis": {
            "gridcolor": "white",
            "linecolor": "white",
            "ticks": ""
           },
           "bgcolor": "#E5ECF6",
           "caxis": {
            "gridcolor": "white",
            "linecolor": "white",
            "ticks": ""
           }
          },
          "title": {
           "x": 0.05
          },
          "xaxis": {
           "automargin": true,
           "gridcolor": "white",
           "linecolor": "white",
           "ticks": "",
           "title": {
            "standoff": 15
           },
           "zerolinecolor": "white",
           "zerolinewidth": 2
          },
          "yaxis": {
           "automargin": true,
           "gridcolor": "white",
           "linecolor": "white",
           "ticks": "",
           "title": {
            "standoff": 15
           },
           "zerolinecolor": "white",
           "zerolinewidth": 2
          }
         }
        },
        "xaxis": {
         "anchor": "y",
         "domain": [
          0.0,
          1.0
         ],
         "title": {
          "text": "Year"
         },
         "rangeslider": {
          "visible": true
         },
         "dtick": "M1"
        },
        "yaxis": {
         "anchor": "x",
         "domain": [
          0.0,
          1.0
         ],
         "title": {
          "text": "value"
         }
        },
        "legend": {
         "title": {
          "text": "Entity"
         },
         "tracegroupgap": 0
        },
        "title": {
         "text": "Energy Consumption from renewable sources"
        },
        "height": 800,
        "width": 1400,
        "font": {
         "family": "Arial",
         "size": 20,
         "color": "#000000"
        }
       },
       "config": {
        "plotlyServerURL": "https://plot.ly"
       }
      },
      "text/html": "<div>                            <div id=\"1885c9d8-a008-4809-bebb-a4e866306a7f\" class=\"plotly-graph-div\" style=\"height:800px; width:1400px;\"></div>            <script type=\"text/javascript\">                require([\"plotly\"], function(Plotly) {                    window.PLOTLYENV=window.PLOTLYENV || {};                                    if (document.getElementById(\"1885c9d8-a008-4809-bebb-a4e866306a7f\")) {                    Plotly.newPlot(                        \"1885c9d8-a008-4809-bebb-a4e866306a7f\",                        [{\"hovertemplate\":\"Entity=Africa<br>Year=%{x}<br>value=%{y}<extra></extra>\",\"legendgroup\":\"Africa\",\"line\":{\"color\":\"#636efa\",\"dash\":\"solid\"},\"marker\":{\"symbol\":\"circle\"},\"mode\":\"lines\",\"name\":\"Africa\",\"orientation\":\"v\",\"showlegend\":true,\"x\":[1985,1986,1987,1988,1989,1990,1991,1992,1993,1994,1995,1996,1997,1998,1999,2000,2001,2002,2003,2004,2005,2006,2007,2008,2009,2010,2011,2012,2013,2014,2015,2016,2017,2018,2019,2020],\"xaxis\":\"x\",\"y\":[19.19745319464246,19.17901497120839,17.738722798728727,18.361077071973188,18.553274883980045,18.19271396247636,18.90457446520394,17.89052938430441,16.98092590164095,16.622295047078843,16.76072459787346,16.63655850797448,16.27506916637843,16.828841352113745,17.303885578880383,17.720553748100528,18.324694728553272,18.165971012203016,17.034694592630917,17.01190102466135,16.713492978791734,16.666534744380655,16.44186574474558,16.434417724849798,16.7464514198209,16.938335477106286,17.032946662040302,16.451398850136385,17.015323726741787,17.75770035772065,17.714020329858094,17.353015583996825,18.213955760809224,19.22277902192131,20.434774550016737,null],\"yaxis\":\"y\",\"type\":\"scatter\"},{\"hovertemplate\":\"Entity=Europe<br>Year=%{x}<br>value=%{y}<extra></extra>\",\"legendgroup\":\"Europe\",\"line\":{\"color\":\"#EF553B\",\"dash\":\"solid\"},\"marker\":{\"symbol\":\"circle\"},\"mode\":\"lines\",\"name\":\"Europe\",\"orientation\":\"v\",\"showlegend\":true,\"x\":[1985,1986,1987,1988,1989,1990,1991,1992,1993,1994,1995,1996,1997,1998,1999,2000,2001,2002,2003,2004,2005,2006,2007,2008,2009,2010,2011,2012,2013,2014,2015,2016,2017,2018,2019,2020],\"xaxis\":\"x\",\"y\":[17.824906740552617,16.943851494598583,17.819716114953852,18.57546287647826,15.905336656114269,16.2538329474638,16.520669050633856,17.299865890871338,18.13267222234574,18.29944584944155,18.15162584789362,17.28301433466239,17.901060061205627,18.499862279350086,18.539094710569696,18.8544374263902,18.563958034711845,17.514843039209268,16.59542314683052,17.932060647720476,18.25769050578659,18.349404491191702,19.01649832347745,20.347796097584183,22.083069954590897,23.695380443235685,23.61495107961605,26.51533238967336,29.060482822878715,30.24596000222696,31.666716636377306,32.061604842156015,32.03840615623388,34.461267613873105,36.78928854313682,null],\"yaxis\":\"y\",\"type\":\"scatter\"},{\"hovertemplate\":\"Entity=World<br>Year=%{x}<br>value=%{y}<extra></extra>\",\"legendgroup\":\"World\",\"line\":{\"color\":\"#00cc96\",\"dash\":\"solid\"},\"marker\":{\"symbol\":\"circle\"},\"mode\":\"lines\",\"name\":\"World\",\"orientation\":\"v\",\"showlegend\":true,\"x\":[1985,1986,1987,1988,1989,1990,1991,1992,1993,1994,1995,1996,1997,1998,1999,2000,2001,2002,2003,2004,2005,2006,2007,2008,2009,2010,2011,2012,2013,2014,2015,2016,2017,2018,2019,2020],\"xaxis\":\"x\",\"y\":[20.827969521907374,20.56514729598425,19.931412875356838,19.700455500278512,18.833336766784527,19.06673997737181,19.118389931967226,19.02061128277733,19.717434386869133,19.39363040196318,19.74471007476652,19.44255344079176,19.40586262777741,19.11682902205416,18.80474048641157,19.37485419957388,18.68307698598978,18.48353103963762,18.11712455111594,18.48864808120664,18.68801502139917,18.70894432220132,18.413842241167767,19.169401286059145,19.814134694513672,20.06067336575796,20.39520827087589,21.535789692432168,22.303957036845016,23.12176132620389,23.618850033117795,24.661660700057773,25.543013128850216,26.26046773111056,27.278540836059783,28.984634509327563],\"yaxis\":\"y\",\"type\":\"scatter\"}],                        {\"template\":{\"data\":{\"bar\":[{\"error_x\":{\"color\":\"#2a3f5f\"},\"error_y\":{\"color\":\"#2a3f5f\"},\"marker\":{\"line\":{\"color\":\"#E5ECF6\",\"width\":0.5},\"pattern\":{\"fillmode\":\"overlay\",\"size\":10,\"solidity\":0.2}},\"type\":\"bar\"}],\"barpolar\":[{\"marker\":{\"line\":{\"color\":\"#E5ECF6\",\"width\":0.5},\"pattern\":{\"fillmode\":\"overlay\",\"size\":10,\"solidity\":0.2}},\"type\":\"barpolar\"}],\"carpet\":[{\"aaxis\":{\"endlinecolor\":\"#2a3f5f\",\"gridcolor\":\"white\",\"linecolor\":\"white\",\"minorgridcolor\":\"white\",\"startlinecolor\":\"#2a3f5f\"},\"baxis\":{\"endlinecolor\":\"#2a3f5f\",\"gridcolor\":\"white\",\"linecolor\":\"white\",\"minorgridcolor\":\"white\",\"startlinecolor\":\"#2a3f5f\"},\"type\":\"carpet\"}],\"choropleth\":[{\"colorbar\":{\"outlinewidth\":0,\"ticks\":\"\"},\"type\":\"choropleth\"}],\"contour\":[{\"colorbar\":{\"outlinewidth\":0,\"ticks\":\"\"},\"colorscale\":[[0.0,\"#0d0887\"],[0.1111111111111111,\"#46039f\"],[0.2222222222222222,\"#7201a8\"],[0.3333333333333333,\"#9c179e\"],[0.4444444444444444,\"#bd3786\"],[0.5555555555555556,\"#d8576b\"],[0.6666666666666666,\"#ed7953\"],[0.7777777777777778,\"#fb9f3a\"],[0.8888888888888888,\"#fdca26\"],[1.0,\"#f0f921\"]],\"type\":\"contour\"}],\"contourcarpet\":[{\"colorbar\":{\"outlinewidth\":0,\"ticks\":\"\"},\"type\":\"contourcarpet\"}],\"heatmap\":[{\"colorbar\":{\"outlinewidth\":0,\"ticks\":\"\"},\"colorscale\":[[0.0,\"#0d0887\"],[0.1111111111111111,\"#46039f\"],[0.2222222222222222,\"#7201a8\"],[0.3333333333333333,\"#9c179e\"],[0.4444444444444444,\"#bd3786\"],[0.5555555555555556,\"#d8576b\"],[0.6666666666666666,\"#ed7953\"],[0.7777777777777778,\"#fb9f3a\"],[0.8888888888888888,\"#fdca26\"],[1.0,\"#f0f921\"]],\"type\":\"heatmap\"}],\"heatmapgl\":[{\"colorbar\":{\"outlinewidth\":0,\"ticks\":\"\"},\"colorscale\":[[0.0,\"#0d0887\"],[0.1111111111111111,\"#46039f\"],[0.2222222222222222,\"#7201a8\"],[0.3333333333333333,\"#9c179e\"],[0.4444444444444444,\"#bd3786\"],[0.5555555555555556,\"#d8576b\"],[0.6666666666666666,\"#ed7953\"],[0.7777777777777778,\"#fb9f3a\"],[0.8888888888888888,\"#fdca26\"],[1.0,\"#f0f921\"]],\"type\":\"heatmapgl\"}],\"histogram\":[{\"marker\":{\"pattern\":{\"fillmode\":\"overlay\",\"size\":10,\"solidity\":0.2}},\"type\":\"histogram\"}],\"histogram2d\":[{\"colorbar\":{\"outlinewidth\":0,\"ticks\":\"\"},\"colorscale\":[[0.0,\"#0d0887\"],[0.1111111111111111,\"#46039f\"],[0.2222222222222222,\"#7201a8\"],[0.3333333333333333,\"#9c179e\"],[0.4444444444444444,\"#bd3786\"],[0.5555555555555556,\"#d8576b\"],[0.6666666666666666,\"#ed7953\"],[0.7777777777777778,\"#fb9f3a\"],[0.8888888888888888,\"#fdca26\"],[1.0,\"#f0f921\"]],\"type\":\"histogram2d\"}],\"histogram2dcontour\":[{\"colorbar\":{\"outlinewidth\":0,\"ticks\":\"\"},\"colorscale\":[[0.0,\"#0d0887\"],[0.1111111111111111,\"#46039f\"],[0.2222222222222222,\"#7201a8\"],[0.3333333333333333,\"#9c179e\"],[0.4444444444444444,\"#bd3786\"],[0.5555555555555556,\"#d8576b\"],[0.6666666666666666,\"#ed7953\"],[0.7777777777777778,\"#fb9f3a\"],[0.8888888888888888,\"#fdca26\"],[1.0,\"#f0f921\"]],\"type\":\"histogram2dcontour\"}],\"mesh3d\":[{\"colorbar\":{\"outlinewidth\":0,\"ticks\":\"\"},\"type\":\"mesh3d\"}],\"parcoords\":[{\"line\":{\"colorbar\":{\"outlinewidth\":0,\"ticks\":\"\"}},\"type\":\"parcoords\"}],\"pie\":[{\"automargin\":true,\"type\":\"pie\"}],\"scatter\":[{\"marker\":{\"colorbar\":{\"outlinewidth\":0,\"ticks\":\"\"}},\"type\":\"scatter\"}],\"scatter3d\":[{\"line\":{\"colorbar\":{\"outlinewidth\":0,\"ticks\":\"\"}},\"marker\":{\"colorbar\":{\"outlinewidth\":0,\"ticks\":\"\"}},\"type\":\"scatter3d\"}],\"scattercarpet\":[{\"marker\":{\"colorbar\":{\"outlinewidth\":0,\"ticks\":\"\"}},\"type\":\"scattercarpet\"}],\"scattergeo\":[{\"marker\":{\"colorbar\":{\"outlinewidth\":0,\"ticks\":\"\"}},\"type\":\"scattergeo\"}],\"scattergl\":[{\"marker\":{\"colorbar\":{\"outlinewidth\":0,\"ticks\":\"\"}},\"type\":\"scattergl\"}],\"scattermapbox\":[{\"marker\":{\"colorbar\":{\"outlinewidth\":0,\"ticks\":\"\"}},\"type\":\"scattermapbox\"}],\"scatterpolar\":[{\"marker\":{\"colorbar\":{\"outlinewidth\":0,\"ticks\":\"\"}},\"type\":\"scatterpolar\"}],\"scatterpolargl\":[{\"marker\":{\"colorbar\":{\"outlinewidth\":0,\"ticks\":\"\"}},\"type\":\"scatterpolargl\"}],\"scatterternary\":[{\"marker\":{\"colorbar\":{\"outlinewidth\":0,\"ticks\":\"\"}},\"type\":\"scatterternary\"}],\"surface\":[{\"colorbar\":{\"outlinewidth\":0,\"ticks\":\"\"},\"colorscale\":[[0.0,\"#0d0887\"],[0.1111111111111111,\"#46039f\"],[0.2222222222222222,\"#7201a8\"],[0.3333333333333333,\"#9c179e\"],[0.4444444444444444,\"#bd3786\"],[0.5555555555555556,\"#d8576b\"],[0.6666666666666666,\"#ed7953\"],[0.7777777777777778,\"#fb9f3a\"],[0.8888888888888888,\"#fdca26\"],[1.0,\"#f0f921\"]],\"type\":\"surface\"}],\"table\":[{\"cells\":{\"fill\":{\"color\":\"#EBF0F8\"},\"line\":{\"color\":\"white\"}},\"header\":{\"fill\":{\"color\":\"#C8D4E3\"},\"line\":{\"color\":\"white\"}},\"type\":\"table\"}]},\"layout\":{\"annotationdefaults\":{\"arrowcolor\":\"#2a3f5f\",\"arrowhead\":0,\"arrowwidth\":1},\"autotypenumbers\":\"strict\",\"coloraxis\":{\"colorbar\":{\"outlinewidth\":0,\"ticks\":\"\"}},\"colorscale\":{\"diverging\":[[0,\"#8e0152\"],[0.1,\"#c51b7d\"],[0.2,\"#de77ae\"],[0.3,\"#f1b6da\"],[0.4,\"#fde0ef\"],[0.5,\"#f7f7f7\"],[0.6,\"#e6f5d0\"],[0.7,\"#b8e186\"],[0.8,\"#7fbc41\"],[0.9,\"#4d9221\"],[1,\"#276419\"]],\"sequential\":[[0.0,\"#0d0887\"],[0.1111111111111111,\"#46039f\"],[0.2222222222222222,\"#7201a8\"],[0.3333333333333333,\"#9c179e\"],[0.4444444444444444,\"#bd3786\"],[0.5555555555555556,\"#d8576b\"],[0.6666666666666666,\"#ed7953\"],[0.7777777777777778,\"#fb9f3a\"],[0.8888888888888888,\"#fdca26\"],[1.0,\"#f0f921\"]],\"sequentialminus\":[[0.0,\"#0d0887\"],[0.1111111111111111,\"#46039f\"],[0.2222222222222222,\"#7201a8\"],[0.3333333333333333,\"#9c179e\"],[0.4444444444444444,\"#bd3786\"],[0.5555555555555556,\"#d8576b\"],[0.6666666666666666,\"#ed7953\"],[0.7777777777777778,\"#fb9f3a\"],[0.8888888888888888,\"#fdca26\"],[1.0,\"#f0f921\"]]},\"colorway\":[\"#636efa\",\"#EF553B\",\"#00cc96\",\"#ab63fa\",\"#FFA15A\",\"#19d3f3\",\"#FF6692\",\"#B6E880\",\"#FF97FF\",\"#FECB52\"],\"font\":{\"color\":\"#2a3f5f\"},\"geo\":{\"bgcolor\":\"white\",\"lakecolor\":\"white\",\"landcolor\":\"#E5ECF6\",\"showlakes\":true,\"showland\":true,\"subunitcolor\":\"white\"},\"hoverlabel\":{\"align\":\"left\"},\"hovermode\":\"closest\",\"mapbox\":{\"style\":\"light\"},\"paper_bgcolor\":\"white\",\"plot_bgcolor\":\"#E5ECF6\",\"polar\":{\"angularaxis\":{\"gridcolor\":\"white\",\"linecolor\":\"white\",\"ticks\":\"\"},\"bgcolor\":\"#E5ECF6\",\"radialaxis\":{\"gridcolor\":\"white\",\"linecolor\":\"white\",\"ticks\":\"\"}},\"scene\":{\"xaxis\":{\"backgroundcolor\":\"#E5ECF6\",\"gridcolor\":\"white\",\"gridwidth\":2,\"linecolor\":\"white\",\"showbackground\":true,\"ticks\":\"\",\"zerolinecolor\":\"white\"},\"yaxis\":{\"backgroundcolor\":\"#E5ECF6\",\"gridcolor\":\"white\",\"gridwidth\":2,\"linecolor\":\"white\",\"showbackground\":true,\"ticks\":\"\",\"zerolinecolor\":\"white\"},\"zaxis\":{\"backgroundcolor\":\"#E5ECF6\",\"gridcolor\":\"white\",\"gridwidth\":2,\"linecolor\":\"white\",\"showbackground\":true,\"ticks\":\"\",\"zerolinecolor\":\"white\"}},\"shapedefaults\":{\"line\":{\"color\":\"#2a3f5f\"}},\"ternary\":{\"aaxis\":{\"gridcolor\":\"white\",\"linecolor\":\"white\",\"ticks\":\"\"},\"baxis\":{\"gridcolor\":\"white\",\"linecolor\":\"white\",\"ticks\":\"\"},\"bgcolor\":\"#E5ECF6\",\"caxis\":{\"gridcolor\":\"white\",\"linecolor\":\"white\",\"ticks\":\"\"}},\"title\":{\"x\":0.05},\"xaxis\":{\"automargin\":true,\"gridcolor\":\"white\",\"linecolor\":\"white\",\"ticks\":\"\",\"title\":{\"standoff\":15},\"zerolinecolor\":\"white\",\"zerolinewidth\":2},\"yaxis\":{\"automargin\":true,\"gridcolor\":\"white\",\"linecolor\":\"white\",\"ticks\":\"\",\"title\":{\"standoff\":15},\"zerolinecolor\":\"white\",\"zerolinewidth\":2}}},\"xaxis\":{\"anchor\":\"y\",\"domain\":[0.0,1.0],\"title\":{\"text\":\"Year\"},\"rangeslider\":{\"visible\":true},\"dtick\":\"M1\"},\"yaxis\":{\"anchor\":\"x\",\"domain\":[0.0,1.0],\"title\":{\"text\":\"value\"}},\"legend\":{\"title\":{\"text\":\"Entity\"},\"tracegroupgap\":0},\"title\":{\"text\":\"Energy Consumption from renewable sources\"},\"height\":800,\"width\":1400,\"font\":{\"family\":\"Arial\",\"size\":20,\"color\":\"#000000\"}},                        {\"responsive\": true}                    ).then(function(){\n                            \nvar gd = document.getElementById('1885c9d8-a008-4809-bebb-a4e866306a7f');\nvar x = new MutationObserver(function (mutations, observer) {{\n        var display = window.getComputedStyle(gd).display;\n        if (!display || display === 'none') {{\n            console.log([gd, 'removed!']);\n            Plotly.purge(gd);\n            observer.disconnect();\n        }}\n}});\n\n// Listen for the removal of the full notebook cells\nvar notebookContainer = gd.closest('#notebook-container');\nif (notebookContainer) {{\n    x.observe(notebookContainer, {childList: true});\n}}\n\n// Listen for the clearing of the current output cell\nvar outputEl = gd.closest('.output');\nif (outputEl) {{\n    x.observe(outputEl, {childList: true});\n}}\n\n                        })                };                });            </script>        </div>"
     },
     "metadata": {},
     "output_type": "display_data"
    }
   ],
   "source": [
    "\n",
    "fig = px.line(continents, x=\"Year\", y=continents.columns,\n",
    "              title='Energy Consumption from renewable sources', width=1400, height=800)\n",
    "fig.update_xaxes(\n",
    "    dtick=\"M1\",rangeslider_visible=True)\n",
    "fig.update_layout(\n",
    "        font=dict(\n",
    "            family=\"Arial\",\n",
    "            size=20,\n",
    "            color='#000000'\n",
    "        ))\n",
    "fig.show()"
   ]
  },
  {
   "cell_type": "code",
   "execution_count": 44,
   "metadata": {
    "pycharm": {
     "name": "#%%\n"
    }
   },
   "outputs": [],
   "source": [
    "name_of_interest = (\"World\", \"Europe\",\"Austria\",\"Belarus\",\"Belgium\",\"Czechia\",\"Denmark\",\"Estonia\",\"Finland\",\"France\",\"Greece\",\"Hungary\",\"Iceland\",\"Ireland\",\"Italy\",\"Latvia\",\"Lithuania\",\"United Kingdom\",\"Ukraine\",\"Switzerland\",\"Sweden\",\"Portugal\",\"Poland\",\"Norway\",\"Luxembourg\",\"Bulgaria\",\"Germany\",\"Denmark\",\"Spain\",\"Albania\",\"Bosnia and Herzegovina\",\"Croatia\",\"Cyprus\",\"Kosovo\",\"Malta\",\"Moldova\",\"Netherlands\",\"Romania\",\"Russia\",\"Serbia\",\"Slovakia\")\n",
    "df = eletricity_share.loc[eletricity_share['Entity'].isin(name_of_interest)]"
   ]
  },
  {
   "cell_type": "code",
   "execution_count": 45,
   "metadata": {
    "pycharm": {
     "name": "#%%\n"
    }
   },
   "outputs": [
    {
     "data": {
      "text/plain": "       Entity      Code  Year  Percentage\n55    Albania       ALB  2000   97.109767\n56    Albania       ALB  2001   96.469634\n57    Albania       ALB  2002   95.507285\n58    Albania       ALB  2003   98.072286\n59    Albania       ALB  2004   97.625663\n...       ...       ...   ...         ...\n6090    World  OWID_WRL  2016   24.661661\n6091    World  OWID_WRL  2017   25.543013\n6092    World  OWID_WRL  2018   26.260468\n6093    World  OWID_WRL  2019   27.278541\n6094    World  OWID_WRL  2020   28.984635\n\n[1326 rows x 4 columns]",
      "text/html": "<div>\n<style scoped>\n    .dataframe tbody tr th:only-of-type {\n        vertical-align: middle;\n    }\n\n    .dataframe tbody tr th {\n        vertical-align: top;\n    }\n\n    .dataframe thead th {\n        text-align: right;\n    }\n</style>\n<table border=\"1\" class=\"dataframe\">\n  <thead>\n    <tr style=\"text-align: right;\">\n      <th></th>\n      <th>Entity</th>\n      <th>Code</th>\n      <th>Year</th>\n      <th>Percentage</th>\n    </tr>\n  </thead>\n  <tbody>\n    <tr>\n      <th>55</th>\n      <td>Albania</td>\n      <td>ALB</td>\n      <td>2000</td>\n      <td>97.109767</td>\n    </tr>\n    <tr>\n      <th>56</th>\n      <td>Albania</td>\n      <td>ALB</td>\n      <td>2001</td>\n      <td>96.469634</td>\n    </tr>\n    <tr>\n      <th>57</th>\n      <td>Albania</td>\n      <td>ALB</td>\n      <td>2002</td>\n      <td>95.507285</td>\n    </tr>\n    <tr>\n      <th>58</th>\n      <td>Albania</td>\n      <td>ALB</td>\n      <td>2003</td>\n      <td>98.072286</td>\n    </tr>\n    <tr>\n      <th>59</th>\n      <td>Albania</td>\n      <td>ALB</td>\n      <td>2004</td>\n      <td>97.625663</td>\n    </tr>\n    <tr>\n      <th>...</th>\n      <td>...</td>\n      <td>...</td>\n      <td>...</td>\n      <td>...</td>\n    </tr>\n    <tr>\n      <th>6090</th>\n      <td>World</td>\n      <td>OWID_WRL</td>\n      <td>2016</td>\n      <td>24.661661</td>\n    </tr>\n    <tr>\n      <th>6091</th>\n      <td>World</td>\n      <td>OWID_WRL</td>\n      <td>2017</td>\n      <td>25.543013</td>\n    </tr>\n    <tr>\n      <th>6092</th>\n      <td>World</td>\n      <td>OWID_WRL</td>\n      <td>2018</td>\n      <td>26.260468</td>\n    </tr>\n    <tr>\n      <th>6093</th>\n      <td>World</td>\n      <td>OWID_WRL</td>\n      <td>2019</td>\n      <td>27.278541</td>\n    </tr>\n    <tr>\n      <th>6094</th>\n      <td>World</td>\n      <td>OWID_WRL</td>\n      <td>2020</td>\n      <td>28.984635</td>\n    </tr>\n  </tbody>\n</table>\n<p>1326 rows × 4 columns</p>\n</div>"
     },
     "execution_count": 45,
     "metadata": {},
     "output_type": "execute_result"
    }
   ],
   "source": [
    "df"
   ]
  },
  {
   "cell_type": "code",
   "execution_count": 46,
   "metadata": {
    "pycharm": {
     "name": "#%%\n"
    }
   },
   "outputs": [
    {
     "data": {
      "text/plain": "Entity  Year  Albania    Austria   Belarus   Belgium  Bosnia and Herzegovina  \\\n0       1985      NaN  69.103281  0.060286  0.593141                     NaN   \n1       1986      NaN  72.092419  0.055124  0.787375                     NaN   \n2       1987      NaN  71.843317  0.053400  0.910569                     NaN   \n3       1988      NaN  74.149494  0.052425  0.837044                     NaN   \n4       1989      NaN  72.122773  0.051963  0.744667                     NaN   \n\nEntity  Bulgaria  Croatia  Cyprus   Czechia  ...    Romania     Russia  \\\n0       5.373271      NaN     0.0  2.875037  ...  17.701690  16.603530   \n1       5.561932      NaN     0.0  3.095403  ...  14.322054  16.410123   \n2       5.835806      NaN     0.0  3.963277  ...  15.131144  15.518749   \n3       5.766198      NaN     0.0  3.262660  ...  19.617111  15.103108   \n4       6.070244      NaN     0.0  2.522608  ...  18.032722  14.837525   \n\nEntity  Serbia  Slovakia      Spain     Sweden  Switzerland   Ukraine  \\\n0          NaN  9.406381  25.203468  53.081523    57.540203  3.938465   \n1          NaN  6.930652  21.030581  45.379406    58.113562  3.907288   \n2          NaN  8.176393  21.065017  50.363987    58.904112  3.408354   \n3          NaN  7.617518  25.885880  49.188949    59.977894  4.014933   \n4          NaN  8.151226  13.563718  51.676206    55.490755  3.430161   \n\nEntity  United Kingdom      World  \n0             1.326855  20.827970  \n1             1.584115  20.565147  \n2             1.385844  19.931413  \n3             1.582000  19.700456  \n4             1.518604  18.833337  \n\n[5 rows x 41 columns]",
      "text/html": "<div>\n<style scoped>\n    .dataframe tbody tr th:only-of-type {\n        vertical-align: middle;\n    }\n\n    .dataframe tbody tr th {\n        vertical-align: top;\n    }\n\n    .dataframe thead th {\n        text-align: right;\n    }\n</style>\n<table border=\"1\" class=\"dataframe\">\n  <thead>\n    <tr style=\"text-align: right;\">\n      <th>Entity</th>\n      <th>Year</th>\n      <th>Albania</th>\n      <th>Austria</th>\n      <th>Belarus</th>\n      <th>Belgium</th>\n      <th>Bosnia and Herzegovina</th>\n      <th>Bulgaria</th>\n      <th>Croatia</th>\n      <th>Cyprus</th>\n      <th>Czechia</th>\n      <th>...</th>\n      <th>Romania</th>\n      <th>Russia</th>\n      <th>Serbia</th>\n      <th>Slovakia</th>\n      <th>Spain</th>\n      <th>Sweden</th>\n      <th>Switzerland</th>\n      <th>Ukraine</th>\n      <th>United Kingdom</th>\n      <th>World</th>\n    </tr>\n  </thead>\n  <tbody>\n    <tr>\n      <th>0</th>\n      <td>1985</td>\n      <td>NaN</td>\n      <td>69.103281</td>\n      <td>0.060286</td>\n      <td>0.593141</td>\n      <td>NaN</td>\n      <td>5.373271</td>\n      <td>NaN</td>\n      <td>0.0</td>\n      <td>2.875037</td>\n      <td>...</td>\n      <td>17.701690</td>\n      <td>16.603530</td>\n      <td>NaN</td>\n      <td>9.406381</td>\n      <td>25.203468</td>\n      <td>53.081523</td>\n      <td>57.540203</td>\n      <td>3.938465</td>\n      <td>1.326855</td>\n      <td>20.827970</td>\n    </tr>\n    <tr>\n      <th>1</th>\n      <td>1986</td>\n      <td>NaN</td>\n      <td>72.092419</td>\n      <td>0.055124</td>\n      <td>0.787375</td>\n      <td>NaN</td>\n      <td>5.561932</td>\n      <td>NaN</td>\n      <td>0.0</td>\n      <td>3.095403</td>\n      <td>...</td>\n      <td>14.322054</td>\n      <td>16.410123</td>\n      <td>NaN</td>\n      <td>6.930652</td>\n      <td>21.030581</td>\n      <td>45.379406</td>\n      <td>58.113562</td>\n      <td>3.907288</td>\n      <td>1.584115</td>\n      <td>20.565147</td>\n    </tr>\n    <tr>\n      <th>2</th>\n      <td>1987</td>\n      <td>NaN</td>\n      <td>71.843317</td>\n      <td>0.053400</td>\n      <td>0.910569</td>\n      <td>NaN</td>\n      <td>5.835806</td>\n      <td>NaN</td>\n      <td>0.0</td>\n      <td>3.963277</td>\n      <td>...</td>\n      <td>15.131144</td>\n      <td>15.518749</td>\n      <td>NaN</td>\n      <td>8.176393</td>\n      <td>21.065017</td>\n      <td>50.363987</td>\n      <td>58.904112</td>\n      <td>3.408354</td>\n      <td>1.385844</td>\n      <td>19.931413</td>\n    </tr>\n    <tr>\n      <th>3</th>\n      <td>1988</td>\n      <td>NaN</td>\n      <td>74.149494</td>\n      <td>0.052425</td>\n      <td>0.837044</td>\n      <td>NaN</td>\n      <td>5.766198</td>\n      <td>NaN</td>\n      <td>0.0</td>\n      <td>3.262660</td>\n      <td>...</td>\n      <td>19.617111</td>\n      <td>15.103108</td>\n      <td>NaN</td>\n      <td>7.617518</td>\n      <td>25.885880</td>\n      <td>49.188949</td>\n      <td>59.977894</td>\n      <td>4.014933</td>\n      <td>1.582000</td>\n      <td>19.700456</td>\n    </tr>\n    <tr>\n      <th>4</th>\n      <td>1989</td>\n      <td>NaN</td>\n      <td>72.122773</td>\n      <td>0.051963</td>\n      <td>0.744667</td>\n      <td>NaN</td>\n      <td>6.070244</td>\n      <td>NaN</td>\n      <td>0.0</td>\n      <td>2.522608</td>\n      <td>...</td>\n      <td>18.032722</td>\n      <td>14.837525</td>\n      <td>NaN</td>\n      <td>8.151226</td>\n      <td>13.563718</td>\n      <td>51.676206</td>\n      <td>55.490755</td>\n      <td>3.430161</td>\n      <td>1.518604</td>\n      <td>18.833337</td>\n    </tr>\n  </tbody>\n</table>\n<p>5 rows × 41 columns</p>\n</div>"
     },
     "execution_count": 46,
     "metadata": {},
     "output_type": "execute_result"
    }
   ],
   "source": [
    "europe = df.pivot_table('Percentage', 'Year', 'Entity')\n",
    "europe.reset_index(inplace=True)\n",
    "europe.head()"
   ]
  },
  {
   "cell_type": "code",
   "execution_count": 47,
   "metadata": {
    "pycharm": {
     "name": "#%%\n"
    }
   },
   "outputs": [],
   "source": [
    "europe_2019 = df.loc[df['Year'] == 2019]"
   ]
  },
  {
   "cell_type": "code",
   "execution_count": 48,
   "metadata": {
    "pycharm": {
     "name": "#%%\n"
    }
   },
   "outputs": [
    {
     "data": {
      "text/plain": "                      Entity      Code  Year  Percentage\n531                  Belarus       BLR  2019    2.756214\n2892                  Kosovo  OWID_KOS  2019    5.153470\n3497                 Moldova       MDA  2019    6.976753\n5738                 Ukraine       UKR  2019    7.302959\n1343                  Cyprus       CYP  2019   10.112466\n3310                   Malta       MLT  2019   10.121244\n1379                 Czechia       CZE  2019   10.885524\n2443                 Hungary       HUN  2019   13.975319\n4448                  Poland       POL  2019   15.067988\n821                 Bulgaria       BGR  2019   16.374719\n4631                  Russia       RUS  2019   18.655502\n3702             Netherlands       NLD  2019   18.685183\n1960                  France       FRA  2019   19.894400\n567                  Belgium       BEL  2019   20.779426\n4973                Slovakia       SVK  2019   25.574138\n1738                 Estonia       EST  2019   25.804993\n6093                   World  OWID_WRL  2019   27.278541\n2172                  Greece       GRC  2019   31.608985\n4861                  Serbia       SRB  2019   31.813343\n2656                 Ireland       IRL  2019   36.438191\n5809          United Kingdom       GBR  2019   36.722208\n1794                  Europe       NaN  2019   36.789289\n5195                   Spain       ESP  2019   36.943369\n689   Bosnia and Herzegovina       BIH  2019   38.762672\n2096                 Germany       DEU  2019   40.139096\n2727                   Italy       ITA  2019   40.350681\n4595                 Romania       ROU  2019   41.604979\n1924                 Finland       FIN  2019   46.139668\n3002                  Latvia       LVA  2019   48.497286\n4484                Portugal       PRT  2019   53.623369\n5306                  Sweden       SWE  2019   58.480287\n5342             Switzerland       CHE  2019   62.410124\n1287                 Croatia       HRV  2019   66.061765\n3154              Luxembourg       LUX  2019   71.528519\n1435                 Denmark       DNK  2019   75.952862\n363                  Austria       AUT  2019   76.966418\n3118               Lithuania       LTU  2019   78.547156\n3980                  Norway       NOR  2019   98.211368\n2479                 Iceland       ISL  2019   99.985362\n74                   Albania       ALB  2019  100.000000",
      "text/html": "<div>\n<style scoped>\n    .dataframe tbody tr th:only-of-type {\n        vertical-align: middle;\n    }\n\n    .dataframe tbody tr th {\n        vertical-align: top;\n    }\n\n    .dataframe thead th {\n        text-align: right;\n    }\n</style>\n<table border=\"1\" class=\"dataframe\">\n  <thead>\n    <tr style=\"text-align: right;\">\n      <th></th>\n      <th>Entity</th>\n      <th>Code</th>\n      <th>Year</th>\n      <th>Percentage</th>\n    </tr>\n  </thead>\n  <tbody>\n    <tr>\n      <th>531</th>\n      <td>Belarus</td>\n      <td>BLR</td>\n      <td>2019</td>\n      <td>2.756214</td>\n    </tr>\n    <tr>\n      <th>2892</th>\n      <td>Kosovo</td>\n      <td>OWID_KOS</td>\n      <td>2019</td>\n      <td>5.153470</td>\n    </tr>\n    <tr>\n      <th>3497</th>\n      <td>Moldova</td>\n      <td>MDA</td>\n      <td>2019</td>\n      <td>6.976753</td>\n    </tr>\n    <tr>\n      <th>5738</th>\n      <td>Ukraine</td>\n      <td>UKR</td>\n      <td>2019</td>\n      <td>7.302959</td>\n    </tr>\n    <tr>\n      <th>1343</th>\n      <td>Cyprus</td>\n      <td>CYP</td>\n      <td>2019</td>\n      <td>10.112466</td>\n    </tr>\n    <tr>\n      <th>3310</th>\n      <td>Malta</td>\n      <td>MLT</td>\n      <td>2019</td>\n      <td>10.121244</td>\n    </tr>\n    <tr>\n      <th>1379</th>\n      <td>Czechia</td>\n      <td>CZE</td>\n      <td>2019</td>\n      <td>10.885524</td>\n    </tr>\n    <tr>\n      <th>2443</th>\n      <td>Hungary</td>\n      <td>HUN</td>\n      <td>2019</td>\n      <td>13.975319</td>\n    </tr>\n    <tr>\n      <th>4448</th>\n      <td>Poland</td>\n      <td>POL</td>\n      <td>2019</td>\n      <td>15.067988</td>\n    </tr>\n    <tr>\n      <th>821</th>\n      <td>Bulgaria</td>\n      <td>BGR</td>\n      <td>2019</td>\n      <td>16.374719</td>\n    </tr>\n    <tr>\n      <th>4631</th>\n      <td>Russia</td>\n      <td>RUS</td>\n      <td>2019</td>\n      <td>18.655502</td>\n    </tr>\n    <tr>\n      <th>3702</th>\n      <td>Netherlands</td>\n      <td>NLD</td>\n      <td>2019</td>\n      <td>18.685183</td>\n    </tr>\n    <tr>\n      <th>1960</th>\n      <td>France</td>\n      <td>FRA</td>\n      <td>2019</td>\n      <td>19.894400</td>\n    </tr>\n    <tr>\n      <th>567</th>\n      <td>Belgium</td>\n      <td>BEL</td>\n      <td>2019</td>\n      <td>20.779426</td>\n    </tr>\n    <tr>\n      <th>4973</th>\n      <td>Slovakia</td>\n      <td>SVK</td>\n      <td>2019</td>\n      <td>25.574138</td>\n    </tr>\n    <tr>\n      <th>1738</th>\n      <td>Estonia</td>\n      <td>EST</td>\n      <td>2019</td>\n      <td>25.804993</td>\n    </tr>\n    <tr>\n      <th>6093</th>\n      <td>World</td>\n      <td>OWID_WRL</td>\n      <td>2019</td>\n      <td>27.278541</td>\n    </tr>\n    <tr>\n      <th>2172</th>\n      <td>Greece</td>\n      <td>GRC</td>\n      <td>2019</td>\n      <td>31.608985</td>\n    </tr>\n    <tr>\n      <th>4861</th>\n      <td>Serbia</td>\n      <td>SRB</td>\n      <td>2019</td>\n      <td>31.813343</td>\n    </tr>\n    <tr>\n      <th>2656</th>\n      <td>Ireland</td>\n      <td>IRL</td>\n      <td>2019</td>\n      <td>36.438191</td>\n    </tr>\n    <tr>\n      <th>5809</th>\n      <td>United Kingdom</td>\n      <td>GBR</td>\n      <td>2019</td>\n      <td>36.722208</td>\n    </tr>\n    <tr>\n      <th>1794</th>\n      <td>Europe</td>\n      <td>NaN</td>\n      <td>2019</td>\n      <td>36.789289</td>\n    </tr>\n    <tr>\n      <th>5195</th>\n      <td>Spain</td>\n      <td>ESP</td>\n      <td>2019</td>\n      <td>36.943369</td>\n    </tr>\n    <tr>\n      <th>689</th>\n      <td>Bosnia and Herzegovina</td>\n      <td>BIH</td>\n      <td>2019</td>\n      <td>38.762672</td>\n    </tr>\n    <tr>\n      <th>2096</th>\n      <td>Germany</td>\n      <td>DEU</td>\n      <td>2019</td>\n      <td>40.139096</td>\n    </tr>\n    <tr>\n      <th>2727</th>\n      <td>Italy</td>\n      <td>ITA</td>\n      <td>2019</td>\n      <td>40.350681</td>\n    </tr>\n    <tr>\n      <th>4595</th>\n      <td>Romania</td>\n      <td>ROU</td>\n      <td>2019</td>\n      <td>41.604979</td>\n    </tr>\n    <tr>\n      <th>1924</th>\n      <td>Finland</td>\n      <td>FIN</td>\n      <td>2019</td>\n      <td>46.139668</td>\n    </tr>\n    <tr>\n      <th>3002</th>\n      <td>Latvia</td>\n      <td>LVA</td>\n      <td>2019</td>\n      <td>48.497286</td>\n    </tr>\n    <tr>\n      <th>4484</th>\n      <td>Portugal</td>\n      <td>PRT</td>\n      <td>2019</td>\n      <td>53.623369</td>\n    </tr>\n    <tr>\n      <th>5306</th>\n      <td>Sweden</td>\n      <td>SWE</td>\n      <td>2019</td>\n      <td>58.480287</td>\n    </tr>\n    <tr>\n      <th>5342</th>\n      <td>Switzerland</td>\n      <td>CHE</td>\n      <td>2019</td>\n      <td>62.410124</td>\n    </tr>\n    <tr>\n      <th>1287</th>\n      <td>Croatia</td>\n      <td>HRV</td>\n      <td>2019</td>\n      <td>66.061765</td>\n    </tr>\n    <tr>\n      <th>3154</th>\n      <td>Luxembourg</td>\n      <td>LUX</td>\n      <td>2019</td>\n      <td>71.528519</td>\n    </tr>\n    <tr>\n      <th>1435</th>\n      <td>Denmark</td>\n      <td>DNK</td>\n      <td>2019</td>\n      <td>75.952862</td>\n    </tr>\n    <tr>\n      <th>363</th>\n      <td>Austria</td>\n      <td>AUT</td>\n      <td>2019</td>\n      <td>76.966418</td>\n    </tr>\n    <tr>\n      <th>3118</th>\n      <td>Lithuania</td>\n      <td>LTU</td>\n      <td>2019</td>\n      <td>78.547156</td>\n    </tr>\n    <tr>\n      <th>3980</th>\n      <td>Norway</td>\n      <td>NOR</td>\n      <td>2019</td>\n      <td>98.211368</td>\n    </tr>\n    <tr>\n      <th>2479</th>\n      <td>Iceland</td>\n      <td>ISL</td>\n      <td>2019</td>\n      <td>99.985362</td>\n    </tr>\n    <tr>\n      <th>74</th>\n      <td>Albania</td>\n      <td>ALB</td>\n      <td>2019</td>\n      <td>100.000000</td>\n    </tr>\n  </tbody>\n</table>\n</div>"
     },
     "execution_count": 48,
     "metadata": {},
     "output_type": "execute_result"
    }
   ],
   "source": [
    "europe_2019.sort_values(by=['Percentage'])"
   ]
  },
  {
   "cell_type": "code",
   "execution_count": 49,
   "metadata": {
    "pycharm": {
     "name": "#%%\n"
    }
   },
   "outputs": [
    {
     "data": {
      "application/vnd.plotly.v1+json": {
       "data": [
        {
         "coloraxis": "coloraxis",
         "geo": "geo",
         "hovertemplate": "<b>%{hovertext}</b><br><br>Code=%{location}<br>Percentage=%{z}<extra></extra>",
         "hovertext": [
          "Albania",
          "Austria",
          "Belarus",
          "Belgium",
          "Bosnia and Herzegovina",
          "Bulgaria",
          "Croatia",
          "Cyprus",
          "Czechia",
          "Denmark",
          "Estonia",
          "Europe",
          "Finland",
          "France",
          "Germany",
          "Greece",
          "Hungary",
          "Iceland",
          "Ireland",
          "Italy",
          "Kosovo",
          "Latvia",
          "Lithuania",
          "Luxembourg",
          "Malta",
          "Moldova",
          "Netherlands",
          "Norway",
          "Poland",
          "Portugal",
          "Romania",
          "Russia",
          "Serbia",
          "Slovakia",
          "Spain",
          "Sweden",
          "Switzerland",
          "Ukraine",
          "United Kingdom",
          "World"
         ],
         "locations": [
          "ALB",
          "AUT",
          "BLR",
          "BEL",
          "BIH",
          "BGR",
          "HRV",
          "CYP",
          "CZE",
          "DNK",
          "EST",
          null,
          "FIN",
          "FRA",
          "DEU",
          "GRC",
          "HUN",
          "ISL",
          "IRL",
          "ITA",
          "OWID_KOS",
          "LVA",
          "LTU",
          "LUX",
          "MLT",
          "MDA",
          "NLD",
          "NOR",
          "POL",
          "PRT",
          "ROU",
          "RUS",
          "SRB",
          "SVK",
          "ESP",
          "SWE",
          "CHE",
          "UKR",
          "GBR",
          "OWID_WRL"
         ],
         "name": "",
         "z": [
          100.00000000000004,
          76.96641841141452,
          2.7562142885551038,
          20.779426486010596,
          38.762672325934005,
          16.374719388997992,
          66.06176544486463,
          10.11246609433444,
          10.885524450927065,
          75.95286223652401,
          25.8049931013448,
          36.78928854313682,
          46.13966770028751,
          19.89440040283039,
          40.13909587680085,
          31.608985134874583,
          13.975318735562109,
          99.98536179187865,
          36.43819068639923,
          40.350681112160935,
          5.153469624725977,
          48.49728637225176,
          78.54715644551318,
          71.52851871552133,
          10.121244338252849,
          6.97675283961414,
          18.68518334487724,
          98.21136753317262,
          15.067988195270535,
          53.62336863004177,
          41.60497931212346,
          18.655502439718266,
          31.81334341280651,
          25.57413807097396,
          36.94336858475007,
          58.48028686125119,
          62.41012353485613,
          7.302958516009092,
          36.72220846204139,
          27.278540836059783
         ],
         "type": "choropleth"
        }
       ],
       "layout": {
        "template": {
         "data": {
          "bar": [
           {
            "error_x": {
             "color": "#2a3f5f"
            },
            "error_y": {
             "color": "#2a3f5f"
            },
            "marker": {
             "line": {
              "color": "#E5ECF6",
              "width": 0.5
             },
             "pattern": {
              "fillmode": "overlay",
              "size": 10,
              "solidity": 0.2
             }
            },
            "type": "bar"
           }
          ],
          "barpolar": [
           {
            "marker": {
             "line": {
              "color": "#E5ECF6",
              "width": 0.5
             },
             "pattern": {
              "fillmode": "overlay",
              "size": 10,
              "solidity": 0.2
             }
            },
            "type": "barpolar"
           }
          ],
          "carpet": [
           {
            "aaxis": {
             "endlinecolor": "#2a3f5f",
             "gridcolor": "white",
             "linecolor": "white",
             "minorgridcolor": "white",
             "startlinecolor": "#2a3f5f"
            },
            "baxis": {
             "endlinecolor": "#2a3f5f",
             "gridcolor": "white",
             "linecolor": "white",
             "minorgridcolor": "white",
             "startlinecolor": "#2a3f5f"
            },
            "type": "carpet"
           }
          ],
          "choropleth": [
           {
            "colorbar": {
             "outlinewidth": 0,
             "ticks": ""
            },
            "type": "choropleth"
           }
          ],
          "contour": [
           {
            "colorbar": {
             "outlinewidth": 0,
             "ticks": ""
            },
            "colorscale": [
             [
              0.0,
              "#0d0887"
             ],
             [
              0.1111111111111111,
              "#46039f"
             ],
             [
              0.2222222222222222,
              "#7201a8"
             ],
             [
              0.3333333333333333,
              "#9c179e"
             ],
             [
              0.4444444444444444,
              "#bd3786"
             ],
             [
              0.5555555555555556,
              "#d8576b"
             ],
             [
              0.6666666666666666,
              "#ed7953"
             ],
             [
              0.7777777777777778,
              "#fb9f3a"
             ],
             [
              0.8888888888888888,
              "#fdca26"
             ],
             [
              1.0,
              "#f0f921"
             ]
            ],
            "type": "contour"
           }
          ],
          "contourcarpet": [
           {
            "colorbar": {
             "outlinewidth": 0,
             "ticks": ""
            },
            "type": "contourcarpet"
           }
          ],
          "heatmap": [
           {
            "colorbar": {
             "outlinewidth": 0,
             "ticks": ""
            },
            "colorscale": [
             [
              0.0,
              "#0d0887"
             ],
             [
              0.1111111111111111,
              "#46039f"
             ],
             [
              0.2222222222222222,
              "#7201a8"
             ],
             [
              0.3333333333333333,
              "#9c179e"
             ],
             [
              0.4444444444444444,
              "#bd3786"
             ],
             [
              0.5555555555555556,
              "#d8576b"
             ],
             [
              0.6666666666666666,
              "#ed7953"
             ],
             [
              0.7777777777777778,
              "#fb9f3a"
             ],
             [
              0.8888888888888888,
              "#fdca26"
             ],
             [
              1.0,
              "#f0f921"
             ]
            ],
            "type": "heatmap"
           }
          ],
          "heatmapgl": [
           {
            "colorbar": {
             "outlinewidth": 0,
             "ticks": ""
            },
            "colorscale": [
             [
              0.0,
              "#0d0887"
             ],
             [
              0.1111111111111111,
              "#46039f"
             ],
             [
              0.2222222222222222,
              "#7201a8"
             ],
             [
              0.3333333333333333,
              "#9c179e"
             ],
             [
              0.4444444444444444,
              "#bd3786"
             ],
             [
              0.5555555555555556,
              "#d8576b"
             ],
             [
              0.6666666666666666,
              "#ed7953"
             ],
             [
              0.7777777777777778,
              "#fb9f3a"
             ],
             [
              0.8888888888888888,
              "#fdca26"
             ],
             [
              1.0,
              "#f0f921"
             ]
            ],
            "type": "heatmapgl"
           }
          ],
          "histogram": [
           {
            "marker": {
             "pattern": {
              "fillmode": "overlay",
              "size": 10,
              "solidity": 0.2
             }
            },
            "type": "histogram"
           }
          ],
          "histogram2d": [
           {
            "colorbar": {
             "outlinewidth": 0,
             "ticks": ""
            },
            "colorscale": [
             [
              0.0,
              "#0d0887"
             ],
             [
              0.1111111111111111,
              "#46039f"
             ],
             [
              0.2222222222222222,
              "#7201a8"
             ],
             [
              0.3333333333333333,
              "#9c179e"
             ],
             [
              0.4444444444444444,
              "#bd3786"
             ],
             [
              0.5555555555555556,
              "#d8576b"
             ],
             [
              0.6666666666666666,
              "#ed7953"
             ],
             [
              0.7777777777777778,
              "#fb9f3a"
             ],
             [
              0.8888888888888888,
              "#fdca26"
             ],
             [
              1.0,
              "#f0f921"
             ]
            ],
            "type": "histogram2d"
           }
          ],
          "histogram2dcontour": [
           {
            "colorbar": {
             "outlinewidth": 0,
             "ticks": ""
            },
            "colorscale": [
             [
              0.0,
              "#0d0887"
             ],
             [
              0.1111111111111111,
              "#46039f"
             ],
             [
              0.2222222222222222,
              "#7201a8"
             ],
             [
              0.3333333333333333,
              "#9c179e"
             ],
             [
              0.4444444444444444,
              "#bd3786"
             ],
             [
              0.5555555555555556,
              "#d8576b"
             ],
             [
              0.6666666666666666,
              "#ed7953"
             ],
             [
              0.7777777777777778,
              "#fb9f3a"
             ],
             [
              0.8888888888888888,
              "#fdca26"
             ],
             [
              1.0,
              "#f0f921"
             ]
            ],
            "type": "histogram2dcontour"
           }
          ],
          "mesh3d": [
           {
            "colorbar": {
             "outlinewidth": 0,
             "ticks": ""
            },
            "type": "mesh3d"
           }
          ],
          "parcoords": [
           {
            "line": {
             "colorbar": {
              "outlinewidth": 0,
              "ticks": ""
             }
            },
            "type": "parcoords"
           }
          ],
          "pie": [
           {
            "automargin": true,
            "type": "pie"
           }
          ],
          "scatter": [
           {
            "marker": {
             "colorbar": {
              "outlinewidth": 0,
              "ticks": ""
             }
            },
            "type": "scatter"
           }
          ],
          "scatter3d": [
           {
            "line": {
             "colorbar": {
              "outlinewidth": 0,
              "ticks": ""
             }
            },
            "marker": {
             "colorbar": {
              "outlinewidth": 0,
              "ticks": ""
             }
            },
            "type": "scatter3d"
           }
          ],
          "scattercarpet": [
           {
            "marker": {
             "colorbar": {
              "outlinewidth": 0,
              "ticks": ""
             }
            },
            "type": "scattercarpet"
           }
          ],
          "scattergeo": [
           {
            "marker": {
             "colorbar": {
              "outlinewidth": 0,
              "ticks": ""
             }
            },
            "type": "scattergeo"
           }
          ],
          "scattergl": [
           {
            "marker": {
             "colorbar": {
              "outlinewidth": 0,
              "ticks": ""
             }
            },
            "type": "scattergl"
           }
          ],
          "scattermapbox": [
           {
            "marker": {
             "colorbar": {
              "outlinewidth": 0,
              "ticks": ""
             }
            },
            "type": "scattermapbox"
           }
          ],
          "scatterpolar": [
           {
            "marker": {
             "colorbar": {
              "outlinewidth": 0,
              "ticks": ""
             }
            },
            "type": "scatterpolar"
           }
          ],
          "scatterpolargl": [
           {
            "marker": {
             "colorbar": {
              "outlinewidth": 0,
              "ticks": ""
             }
            },
            "type": "scatterpolargl"
           }
          ],
          "scatterternary": [
           {
            "marker": {
             "colorbar": {
              "outlinewidth": 0,
              "ticks": ""
             }
            },
            "type": "scatterternary"
           }
          ],
          "surface": [
           {
            "colorbar": {
             "outlinewidth": 0,
             "ticks": ""
            },
            "colorscale": [
             [
              0.0,
              "#0d0887"
             ],
             [
              0.1111111111111111,
              "#46039f"
             ],
             [
              0.2222222222222222,
              "#7201a8"
             ],
             [
              0.3333333333333333,
              "#9c179e"
             ],
             [
              0.4444444444444444,
              "#bd3786"
             ],
             [
              0.5555555555555556,
              "#d8576b"
             ],
             [
              0.6666666666666666,
              "#ed7953"
             ],
             [
              0.7777777777777778,
              "#fb9f3a"
             ],
             [
              0.8888888888888888,
              "#fdca26"
             ],
             [
              1.0,
              "#f0f921"
             ]
            ],
            "type": "surface"
           }
          ],
          "table": [
           {
            "cells": {
             "fill": {
              "color": "#EBF0F8"
             },
             "line": {
              "color": "white"
             }
            },
            "header": {
             "fill": {
              "color": "#C8D4E3"
             },
             "line": {
              "color": "white"
             }
            },
            "type": "table"
           }
          ]
         },
         "layout": {
          "annotationdefaults": {
           "arrowcolor": "#2a3f5f",
           "arrowhead": 0,
           "arrowwidth": 1
          },
          "autotypenumbers": "strict",
          "coloraxis": {
           "colorbar": {
            "outlinewidth": 0,
            "ticks": ""
           }
          },
          "colorscale": {
           "diverging": [
            [
             0,
             "#8e0152"
            ],
            [
             0.1,
             "#c51b7d"
            ],
            [
             0.2,
             "#de77ae"
            ],
            [
             0.3,
             "#f1b6da"
            ],
            [
             0.4,
             "#fde0ef"
            ],
            [
             0.5,
             "#f7f7f7"
            ],
            [
             0.6,
             "#e6f5d0"
            ],
            [
             0.7,
             "#b8e186"
            ],
            [
             0.8,
             "#7fbc41"
            ],
            [
             0.9,
             "#4d9221"
            ],
            [
             1,
             "#276419"
            ]
           ],
           "sequential": [
            [
             0.0,
             "#0d0887"
            ],
            [
             0.1111111111111111,
             "#46039f"
            ],
            [
             0.2222222222222222,
             "#7201a8"
            ],
            [
             0.3333333333333333,
             "#9c179e"
            ],
            [
             0.4444444444444444,
             "#bd3786"
            ],
            [
             0.5555555555555556,
             "#d8576b"
            ],
            [
             0.6666666666666666,
             "#ed7953"
            ],
            [
             0.7777777777777778,
             "#fb9f3a"
            ],
            [
             0.8888888888888888,
             "#fdca26"
            ],
            [
             1.0,
             "#f0f921"
            ]
           ],
           "sequentialminus": [
            [
             0.0,
             "#0d0887"
            ],
            [
             0.1111111111111111,
             "#46039f"
            ],
            [
             0.2222222222222222,
             "#7201a8"
            ],
            [
             0.3333333333333333,
             "#9c179e"
            ],
            [
             0.4444444444444444,
             "#bd3786"
            ],
            [
             0.5555555555555556,
             "#d8576b"
            ],
            [
             0.6666666666666666,
             "#ed7953"
            ],
            [
             0.7777777777777778,
             "#fb9f3a"
            ],
            [
             0.8888888888888888,
             "#fdca26"
            ],
            [
             1.0,
             "#f0f921"
            ]
           ]
          },
          "colorway": [
           "#636efa",
           "#EF553B",
           "#00cc96",
           "#ab63fa",
           "#FFA15A",
           "#19d3f3",
           "#FF6692",
           "#B6E880",
           "#FF97FF",
           "#FECB52"
          ],
          "font": {
           "color": "#2a3f5f"
          },
          "geo": {
           "bgcolor": "white",
           "lakecolor": "white",
           "landcolor": "#E5ECF6",
           "showlakes": true,
           "showland": true,
           "subunitcolor": "white"
          },
          "hoverlabel": {
           "align": "left"
          },
          "hovermode": "closest",
          "mapbox": {
           "style": "light"
          },
          "paper_bgcolor": "white",
          "plot_bgcolor": "#E5ECF6",
          "polar": {
           "angularaxis": {
            "gridcolor": "white",
            "linecolor": "white",
            "ticks": ""
           },
           "bgcolor": "#E5ECF6",
           "radialaxis": {
            "gridcolor": "white",
            "linecolor": "white",
            "ticks": ""
           }
          },
          "scene": {
           "xaxis": {
            "backgroundcolor": "#E5ECF6",
            "gridcolor": "white",
            "gridwidth": 2,
            "linecolor": "white",
            "showbackground": true,
            "ticks": "",
            "zerolinecolor": "white"
           },
           "yaxis": {
            "backgroundcolor": "#E5ECF6",
            "gridcolor": "white",
            "gridwidth": 2,
            "linecolor": "white",
            "showbackground": true,
            "ticks": "",
            "zerolinecolor": "white"
           },
           "zaxis": {
            "backgroundcolor": "#E5ECF6",
            "gridcolor": "white",
            "gridwidth": 2,
            "linecolor": "white",
            "showbackground": true,
            "ticks": "",
            "zerolinecolor": "white"
           }
          },
          "shapedefaults": {
           "line": {
            "color": "#2a3f5f"
           }
          },
          "ternary": {
           "aaxis": {
            "gridcolor": "white",
            "linecolor": "white",
            "ticks": ""
           },
           "baxis": {
            "gridcolor": "white",
            "linecolor": "white",
            "ticks": ""
           },
           "bgcolor": "#E5ECF6",
           "caxis": {
            "gridcolor": "white",
            "linecolor": "white",
            "ticks": ""
           }
          },
          "title": {
           "x": 0.05
          },
          "xaxis": {
           "automargin": true,
           "gridcolor": "white",
           "linecolor": "white",
           "ticks": "",
           "title": {
            "standoff": 15
           },
           "zerolinecolor": "white",
           "zerolinewidth": 2
          },
          "yaxis": {
           "automargin": true,
           "gridcolor": "white",
           "linecolor": "white",
           "ticks": "",
           "title": {
            "standoff": 15
           },
           "zerolinecolor": "white",
           "zerolinewidth": 2
          }
         }
        },
        "geo": {
         "domain": {
          "x": [
           0.0,
           1.0
          ],
          "y": [
           0.0,
           1.0
          ]
         },
         "center": {},
         "scope": "europe"
        },
        "coloraxis": {
         "colorbar": {
          "title": {
           "text": "Percentage"
          }
         },
         "colorscale": [
          [
           0.0,
           "rgb(214, 249, 207)"
          ],
          [
           0.09090909090909091,
           "rgb(186, 228, 174)"
          ],
          [
           0.18181818181818182,
           "rgb(156, 209, 143)"
          ],
          [
           0.2727272727272727,
           "rgb(124, 191, 115)"
          ],
          [
           0.36363636363636365,
           "rgb(85, 174, 91)"
          ],
          [
           0.45454545454545453,
           "rgb(37, 157, 81)"
          ],
          [
           0.5454545454545454,
           "rgb(7, 138, 78)"
          ],
          [
           0.6363636363636364,
           "rgb(13, 117, 71)"
          ],
          [
           0.7272727272727273,
           "rgb(23, 95, 61)"
          ],
          [
           0.8181818181818182,
           "rgb(25, 75, 49)"
          ],
          [
           0.9090909090909091,
           "rgb(23, 55, 35)"
          ],
          [
           1.0,
           "rgb(17, 36, 20)"
          ]
         ]
        },
        "legend": {
         "tracegroupgap": 0
        },
        "margin": {
         "t": 60
        },
        "height": 800,
        "width": 1400,
        "font": {
         "family": "Arial",
         "size": 20,
         "color": "#000000"
        },
        "title": {
         "text": "Europe"
        }
       },
       "config": {
        "plotlyServerURL": "https://plot.ly"
       }
      },
      "text/html": "<div>                            <div id=\"369bbcd5-cfcb-464b-980c-c82e70794fa0\" class=\"plotly-graph-div\" style=\"height:800px; width:1400px;\"></div>            <script type=\"text/javascript\">                require([\"plotly\"], function(Plotly) {                    window.PLOTLYENV=window.PLOTLYENV || {};                                    if (document.getElementById(\"369bbcd5-cfcb-464b-980c-c82e70794fa0\")) {                    Plotly.newPlot(                        \"369bbcd5-cfcb-464b-980c-c82e70794fa0\",                        [{\"coloraxis\":\"coloraxis\",\"geo\":\"geo\",\"hovertemplate\":\"<b>%{hovertext}</b><br><br>Code=%{location}<br>Percentage=%{z}<extra></extra>\",\"hovertext\":[\"Albania\",\"Austria\",\"Belarus\",\"Belgium\",\"Bosnia and Herzegovina\",\"Bulgaria\",\"Croatia\",\"Cyprus\",\"Czechia\",\"Denmark\",\"Estonia\",\"Europe\",\"Finland\",\"France\",\"Germany\",\"Greece\",\"Hungary\",\"Iceland\",\"Ireland\",\"Italy\",\"Kosovo\",\"Latvia\",\"Lithuania\",\"Luxembourg\",\"Malta\",\"Moldova\",\"Netherlands\",\"Norway\",\"Poland\",\"Portugal\",\"Romania\",\"Russia\",\"Serbia\",\"Slovakia\",\"Spain\",\"Sweden\",\"Switzerland\",\"Ukraine\",\"United Kingdom\",\"World\"],\"locations\":[\"ALB\",\"AUT\",\"BLR\",\"BEL\",\"BIH\",\"BGR\",\"HRV\",\"CYP\",\"CZE\",\"DNK\",\"EST\",null,\"FIN\",\"FRA\",\"DEU\",\"GRC\",\"HUN\",\"ISL\",\"IRL\",\"ITA\",\"OWID_KOS\",\"LVA\",\"LTU\",\"LUX\",\"MLT\",\"MDA\",\"NLD\",\"NOR\",\"POL\",\"PRT\",\"ROU\",\"RUS\",\"SRB\",\"SVK\",\"ESP\",\"SWE\",\"CHE\",\"UKR\",\"GBR\",\"OWID_WRL\"],\"name\":\"\",\"z\":[100.00000000000004,76.96641841141452,2.7562142885551038,20.779426486010596,38.762672325934005,16.374719388997992,66.06176544486463,10.11246609433444,10.885524450927065,75.95286223652401,25.8049931013448,36.78928854313682,46.13966770028751,19.89440040283039,40.13909587680085,31.608985134874583,13.975318735562109,99.98536179187865,36.43819068639923,40.350681112160935,5.153469624725977,48.49728637225176,78.54715644551318,71.52851871552133,10.121244338252849,6.97675283961414,18.68518334487724,98.21136753317262,15.067988195270535,53.62336863004177,41.60497931212346,18.655502439718266,31.81334341280651,25.57413807097396,36.94336858475007,58.48028686125119,62.41012353485613,7.302958516009092,36.72220846204139,27.278540836059783],\"type\":\"choropleth\"}],                        {\"template\":{\"data\":{\"bar\":[{\"error_x\":{\"color\":\"#2a3f5f\"},\"error_y\":{\"color\":\"#2a3f5f\"},\"marker\":{\"line\":{\"color\":\"#E5ECF6\",\"width\":0.5},\"pattern\":{\"fillmode\":\"overlay\",\"size\":10,\"solidity\":0.2}},\"type\":\"bar\"}],\"barpolar\":[{\"marker\":{\"line\":{\"color\":\"#E5ECF6\",\"width\":0.5},\"pattern\":{\"fillmode\":\"overlay\",\"size\":10,\"solidity\":0.2}},\"type\":\"barpolar\"}],\"carpet\":[{\"aaxis\":{\"endlinecolor\":\"#2a3f5f\",\"gridcolor\":\"white\",\"linecolor\":\"white\",\"minorgridcolor\":\"white\",\"startlinecolor\":\"#2a3f5f\"},\"baxis\":{\"endlinecolor\":\"#2a3f5f\",\"gridcolor\":\"white\",\"linecolor\":\"white\",\"minorgridcolor\":\"white\",\"startlinecolor\":\"#2a3f5f\"},\"type\":\"carpet\"}],\"choropleth\":[{\"colorbar\":{\"outlinewidth\":0,\"ticks\":\"\"},\"type\":\"choropleth\"}],\"contour\":[{\"colorbar\":{\"outlinewidth\":0,\"ticks\":\"\"},\"colorscale\":[[0.0,\"#0d0887\"],[0.1111111111111111,\"#46039f\"],[0.2222222222222222,\"#7201a8\"],[0.3333333333333333,\"#9c179e\"],[0.4444444444444444,\"#bd3786\"],[0.5555555555555556,\"#d8576b\"],[0.6666666666666666,\"#ed7953\"],[0.7777777777777778,\"#fb9f3a\"],[0.8888888888888888,\"#fdca26\"],[1.0,\"#f0f921\"]],\"type\":\"contour\"}],\"contourcarpet\":[{\"colorbar\":{\"outlinewidth\":0,\"ticks\":\"\"},\"type\":\"contourcarpet\"}],\"heatmap\":[{\"colorbar\":{\"outlinewidth\":0,\"ticks\":\"\"},\"colorscale\":[[0.0,\"#0d0887\"],[0.1111111111111111,\"#46039f\"],[0.2222222222222222,\"#7201a8\"],[0.3333333333333333,\"#9c179e\"],[0.4444444444444444,\"#bd3786\"],[0.5555555555555556,\"#d8576b\"],[0.6666666666666666,\"#ed7953\"],[0.7777777777777778,\"#fb9f3a\"],[0.8888888888888888,\"#fdca26\"],[1.0,\"#f0f921\"]],\"type\":\"heatmap\"}],\"heatmapgl\":[{\"colorbar\":{\"outlinewidth\":0,\"ticks\":\"\"},\"colorscale\":[[0.0,\"#0d0887\"],[0.1111111111111111,\"#46039f\"],[0.2222222222222222,\"#7201a8\"],[0.3333333333333333,\"#9c179e\"],[0.4444444444444444,\"#bd3786\"],[0.5555555555555556,\"#d8576b\"],[0.6666666666666666,\"#ed7953\"],[0.7777777777777778,\"#fb9f3a\"],[0.8888888888888888,\"#fdca26\"],[1.0,\"#f0f921\"]],\"type\":\"heatmapgl\"}],\"histogram\":[{\"marker\":{\"pattern\":{\"fillmode\":\"overlay\",\"size\":10,\"solidity\":0.2}},\"type\":\"histogram\"}],\"histogram2d\":[{\"colorbar\":{\"outlinewidth\":0,\"ticks\":\"\"},\"colorscale\":[[0.0,\"#0d0887\"],[0.1111111111111111,\"#46039f\"],[0.2222222222222222,\"#7201a8\"],[0.3333333333333333,\"#9c179e\"],[0.4444444444444444,\"#bd3786\"],[0.5555555555555556,\"#d8576b\"],[0.6666666666666666,\"#ed7953\"],[0.7777777777777778,\"#fb9f3a\"],[0.8888888888888888,\"#fdca26\"],[1.0,\"#f0f921\"]],\"type\":\"histogram2d\"}],\"histogram2dcontour\":[{\"colorbar\":{\"outlinewidth\":0,\"ticks\":\"\"},\"colorscale\":[[0.0,\"#0d0887\"],[0.1111111111111111,\"#46039f\"],[0.2222222222222222,\"#7201a8\"],[0.3333333333333333,\"#9c179e\"],[0.4444444444444444,\"#bd3786\"],[0.5555555555555556,\"#d8576b\"],[0.6666666666666666,\"#ed7953\"],[0.7777777777777778,\"#fb9f3a\"],[0.8888888888888888,\"#fdca26\"],[1.0,\"#f0f921\"]],\"type\":\"histogram2dcontour\"}],\"mesh3d\":[{\"colorbar\":{\"outlinewidth\":0,\"ticks\":\"\"},\"type\":\"mesh3d\"}],\"parcoords\":[{\"line\":{\"colorbar\":{\"outlinewidth\":0,\"ticks\":\"\"}},\"type\":\"parcoords\"}],\"pie\":[{\"automargin\":true,\"type\":\"pie\"}],\"scatter\":[{\"marker\":{\"colorbar\":{\"outlinewidth\":0,\"ticks\":\"\"}},\"type\":\"scatter\"}],\"scatter3d\":[{\"line\":{\"colorbar\":{\"outlinewidth\":0,\"ticks\":\"\"}},\"marker\":{\"colorbar\":{\"outlinewidth\":0,\"ticks\":\"\"}},\"type\":\"scatter3d\"}],\"scattercarpet\":[{\"marker\":{\"colorbar\":{\"outlinewidth\":0,\"ticks\":\"\"}},\"type\":\"scattercarpet\"}],\"scattergeo\":[{\"marker\":{\"colorbar\":{\"outlinewidth\":0,\"ticks\":\"\"}},\"type\":\"scattergeo\"}],\"scattergl\":[{\"marker\":{\"colorbar\":{\"outlinewidth\":0,\"ticks\":\"\"}},\"type\":\"scattergl\"}],\"scattermapbox\":[{\"marker\":{\"colorbar\":{\"outlinewidth\":0,\"ticks\":\"\"}},\"type\":\"scattermapbox\"}],\"scatterpolar\":[{\"marker\":{\"colorbar\":{\"outlinewidth\":0,\"ticks\":\"\"}},\"type\":\"scatterpolar\"}],\"scatterpolargl\":[{\"marker\":{\"colorbar\":{\"outlinewidth\":0,\"ticks\":\"\"}},\"type\":\"scatterpolargl\"}],\"scatterternary\":[{\"marker\":{\"colorbar\":{\"outlinewidth\":0,\"ticks\":\"\"}},\"type\":\"scatterternary\"}],\"surface\":[{\"colorbar\":{\"outlinewidth\":0,\"ticks\":\"\"},\"colorscale\":[[0.0,\"#0d0887\"],[0.1111111111111111,\"#46039f\"],[0.2222222222222222,\"#7201a8\"],[0.3333333333333333,\"#9c179e\"],[0.4444444444444444,\"#bd3786\"],[0.5555555555555556,\"#d8576b\"],[0.6666666666666666,\"#ed7953\"],[0.7777777777777778,\"#fb9f3a\"],[0.8888888888888888,\"#fdca26\"],[1.0,\"#f0f921\"]],\"type\":\"surface\"}],\"table\":[{\"cells\":{\"fill\":{\"color\":\"#EBF0F8\"},\"line\":{\"color\":\"white\"}},\"header\":{\"fill\":{\"color\":\"#C8D4E3\"},\"line\":{\"color\":\"white\"}},\"type\":\"table\"}]},\"layout\":{\"annotationdefaults\":{\"arrowcolor\":\"#2a3f5f\",\"arrowhead\":0,\"arrowwidth\":1},\"autotypenumbers\":\"strict\",\"coloraxis\":{\"colorbar\":{\"outlinewidth\":0,\"ticks\":\"\"}},\"colorscale\":{\"diverging\":[[0,\"#8e0152\"],[0.1,\"#c51b7d\"],[0.2,\"#de77ae\"],[0.3,\"#f1b6da\"],[0.4,\"#fde0ef\"],[0.5,\"#f7f7f7\"],[0.6,\"#e6f5d0\"],[0.7,\"#b8e186\"],[0.8,\"#7fbc41\"],[0.9,\"#4d9221\"],[1,\"#276419\"]],\"sequential\":[[0.0,\"#0d0887\"],[0.1111111111111111,\"#46039f\"],[0.2222222222222222,\"#7201a8\"],[0.3333333333333333,\"#9c179e\"],[0.4444444444444444,\"#bd3786\"],[0.5555555555555556,\"#d8576b\"],[0.6666666666666666,\"#ed7953\"],[0.7777777777777778,\"#fb9f3a\"],[0.8888888888888888,\"#fdca26\"],[1.0,\"#f0f921\"]],\"sequentialminus\":[[0.0,\"#0d0887\"],[0.1111111111111111,\"#46039f\"],[0.2222222222222222,\"#7201a8\"],[0.3333333333333333,\"#9c179e\"],[0.4444444444444444,\"#bd3786\"],[0.5555555555555556,\"#d8576b\"],[0.6666666666666666,\"#ed7953\"],[0.7777777777777778,\"#fb9f3a\"],[0.8888888888888888,\"#fdca26\"],[1.0,\"#f0f921\"]]},\"colorway\":[\"#636efa\",\"#EF553B\",\"#00cc96\",\"#ab63fa\",\"#FFA15A\",\"#19d3f3\",\"#FF6692\",\"#B6E880\",\"#FF97FF\",\"#FECB52\"],\"font\":{\"color\":\"#2a3f5f\"},\"geo\":{\"bgcolor\":\"white\",\"lakecolor\":\"white\",\"landcolor\":\"#E5ECF6\",\"showlakes\":true,\"showland\":true,\"subunitcolor\":\"white\"},\"hoverlabel\":{\"align\":\"left\"},\"hovermode\":\"closest\",\"mapbox\":{\"style\":\"light\"},\"paper_bgcolor\":\"white\",\"plot_bgcolor\":\"#E5ECF6\",\"polar\":{\"angularaxis\":{\"gridcolor\":\"white\",\"linecolor\":\"white\",\"ticks\":\"\"},\"bgcolor\":\"#E5ECF6\",\"radialaxis\":{\"gridcolor\":\"white\",\"linecolor\":\"white\",\"ticks\":\"\"}},\"scene\":{\"xaxis\":{\"backgroundcolor\":\"#E5ECF6\",\"gridcolor\":\"white\",\"gridwidth\":2,\"linecolor\":\"white\",\"showbackground\":true,\"ticks\":\"\",\"zerolinecolor\":\"white\"},\"yaxis\":{\"backgroundcolor\":\"#E5ECF6\",\"gridcolor\":\"white\",\"gridwidth\":2,\"linecolor\":\"white\",\"showbackground\":true,\"ticks\":\"\",\"zerolinecolor\":\"white\"},\"zaxis\":{\"backgroundcolor\":\"#E5ECF6\",\"gridcolor\":\"white\",\"gridwidth\":2,\"linecolor\":\"white\",\"showbackground\":true,\"ticks\":\"\",\"zerolinecolor\":\"white\"}},\"shapedefaults\":{\"line\":{\"color\":\"#2a3f5f\"}},\"ternary\":{\"aaxis\":{\"gridcolor\":\"white\",\"linecolor\":\"white\",\"ticks\":\"\"},\"baxis\":{\"gridcolor\":\"white\",\"linecolor\":\"white\",\"ticks\":\"\"},\"bgcolor\":\"#E5ECF6\",\"caxis\":{\"gridcolor\":\"white\",\"linecolor\":\"white\",\"ticks\":\"\"}},\"title\":{\"x\":0.05},\"xaxis\":{\"automargin\":true,\"gridcolor\":\"white\",\"linecolor\":\"white\",\"ticks\":\"\",\"title\":{\"standoff\":15},\"zerolinecolor\":\"white\",\"zerolinewidth\":2},\"yaxis\":{\"automargin\":true,\"gridcolor\":\"white\",\"linecolor\":\"white\",\"ticks\":\"\",\"title\":{\"standoff\":15},\"zerolinecolor\":\"white\",\"zerolinewidth\":2}}},\"geo\":{\"domain\":{\"x\":[0.0,1.0],\"y\":[0.0,1.0]},\"center\":{},\"scope\":\"europe\"},\"coloraxis\":{\"colorbar\":{\"title\":{\"text\":\"Percentage\"}},\"colorscale\":[[0.0,\"rgb(214, 249, 207)\"],[0.09090909090909091,\"rgb(186, 228, 174)\"],[0.18181818181818182,\"rgb(156, 209, 143)\"],[0.2727272727272727,\"rgb(124, 191, 115)\"],[0.36363636363636365,\"rgb(85, 174, 91)\"],[0.45454545454545453,\"rgb(37, 157, 81)\"],[0.5454545454545454,\"rgb(7, 138, 78)\"],[0.6363636363636364,\"rgb(13, 117, 71)\"],[0.7272727272727273,\"rgb(23, 95, 61)\"],[0.8181818181818182,\"rgb(25, 75, 49)\"],[0.9090909090909091,\"rgb(23, 55, 35)\"],[1.0,\"rgb(17, 36, 20)\"]]},\"legend\":{\"tracegroupgap\":0},\"margin\":{\"t\":60},\"height\":800,\"width\":1400,\"font\":{\"family\":\"Arial\",\"size\":20,\"color\":\"#000000\"},\"title\":{\"text\":\"Europe\"}},                        {\"responsive\": true}                    ).then(function(){\n                            \nvar gd = document.getElementById('369bbcd5-cfcb-464b-980c-c82e70794fa0');\nvar x = new MutationObserver(function (mutations, observer) {{\n        var display = window.getComputedStyle(gd).display;\n        if (!display || display === 'none') {{\n            console.log([gd, 'removed!']);\n            Plotly.purge(gd);\n            observer.disconnect();\n        }}\n}});\n\n// Listen for the removal of the full notebook cells\nvar notebookContainer = gd.closest('#notebook-container');\nif (notebookContainer) {{\n    x.observe(notebookContainer, {childList: true});\n}}\n\n// Listen for the clearing of the current output cell\nvar outputEl = gd.closest('.output');\nif (outputEl) {{\n    x.observe(outputEl, {childList: true});\n}}\n\n                        })                };                });            </script>        </div>"
     },
     "metadata": {},
     "output_type": "display_data"
    }
   ],
   "source": [
    "import plotly.express as px\n",
    "\n",
    "fig = px.choropleth(europe_2019, locations=\"Code\",\n",
    "                    color=\"Percentage\", # lifeExp is a column of gapminder\n",
    "                    hover_name=\"Entity\", # column to add to hover information\n",
    "                    color_continuous_scale=px.colors.sequential.algae,\n",
    "                    scope = \"europe\",width=1400, height=800)\n",
    "\n",
    "fig.update_layout(\n",
    "    title = \"Europe\",\n",
    "    font=dict(\n",
    "        family=\"Arial\",\n",
    "        size=20,\n",
    "        color='#000000'\n",
    "    ))\n",
    "fig.show()"
   ]
  },
  {
   "cell_type": "code",
   "execution_count": 134,
   "metadata": {
    "pycharm": {
     "name": "#%%\n"
    }
   },
   "outputs": [],
   "source": [
    "wind_share = pd.read_csv(\"share-electricity-wind.csv\")\n",
    "solar_share = pd.read_csv(\"share-electricity-solar.csv\")\n",
    "hydro_share = pd.read_csv(\"share-electricity-hydro.csv\")"
   ]
  },
  {
   "cell_type": "code",
   "execution_count": 135,
   "metadata": {
    "collapsed": false,
    "jupyter": {
     "outputs_hidden": false
    },
    "pycharm": {
     "name": "#%%\n"
    }
   },
   "outputs": [],
   "source": [
    "wind_share = wind_share.loc[wind_share['Entity'].isin(name_of_interest)]\n",
    "solar_share = solar_share.loc[solar_share['Entity'].isin(name_of_interest)]\n",
    "hydro_share = hydro_share.loc[hydro_share['Entity'].isin(name_of_interest)]"
   ]
  },
  {
   "cell_type": "code",
   "execution_count": 141,
   "metadata": {
    "collapsed": false,
    "jupyter": {
     "outputs_hidden": false
    },
    "pycharm": {
     "name": "#%%\n"
    }
   },
   "outputs": [],
   "source": [
    "wind_share = wind_share.rename(columns={'Wind (% electricity)': 'Wind'})\n",
    "solar_share = solar_share.rename(columns={'Solar (% electricity)': 'Solar'})\n",
    "hydro_share = hydro_share.rename(columns={'Hydro (% electricity)': 'Hydro'})"
   ]
  },
  {
   "cell_type": "code",
   "execution_count": 146,
   "metadata": {
    "collapsed": false,
    "jupyter": {
     "outputs_hidden": false
    },
    "pycharm": {
     "name": "#%%\n"
    }
   },
   "outputs": [],
   "source": [
    "new_df = pd.merge(hydro_share, solar_share,  how='inner', left_on=['Entity',\"Year\",\"Code\"], right_on = ['Entity','Year',\"Code\"])\n",
    "\n",
    "share = pd.merge(new_df, wind_share, how=\"inner\",left_on=['Entity','Year','Code'], right_on=['Entity','Year','Code'])\n"
   ]
  },
  {
   "cell_type": "code",
   "execution_count": 155,
   "metadata": {
    "collapsed": false,
    "jupyter": {
     "outputs_hidden": false
    },
    "pycharm": {
     "name": "#%%\n"
    }
   },
   "outputs": [],
   "source": [
    "share[\"total_explained\"]= share.apply(lambda row: row.Solar + row.Wind + row.Hydro, axis=1)"
   ]
  },
  {
   "cell_type": "code",
   "execution_count": 161,
   "metadata": {
    "collapsed": false,
    "jupyter": {
     "outputs_hidden": false
    },
    "pycharm": {
     "name": "#%%\n"
    }
   },
   "outputs": [
    {
     "data": {
      "text/html": [
       "<div>\n",
       "<style scoped>\n",
       "    .dataframe tbody tr th:only-of-type {\n",
       "        vertical-align: middle;\n",
       "    }\n",
       "\n",
       "    .dataframe tbody tr th {\n",
       "        vertical-align: top;\n",
       "    }\n",
       "\n",
       "    .dataframe thead th {\n",
       "        text-align: right;\n",
       "    }\n",
       "</style>\n",
       "<table border=\"1\" class=\"dataframe\">\n",
       "  <thead>\n",
       "    <tr style=\"text-align: right;\">\n",
       "      <th></th>\n",
       "      <th>Entity</th>\n",
       "      <th>Code</th>\n",
       "      <th>Year</th>\n",
       "      <th>Hydro</th>\n",
       "      <th>Solar</th>\n",
       "      <th>Wind</th>\n",
       "      <th>total_explained</th>\n",
       "      <th>Percentage_x</th>\n",
       "      <th>Percentage_y</th>\n",
       "      <th>total_unexplained</th>\n",
       "    </tr>\n",
       "  </thead>\n",
       "  <tbody>\n",
       "    <tr>\n",
       "      <th>0</th>\n",
       "      <td>Austria</td>\n",
       "      <td>AUT</td>\n",
       "      <td>1985</td>\n",
       "      <td>69.103281</td>\n",
       "      <td>0.000000</td>\n",
       "      <td>0.000000</td>\n",
       "      <td>69.103281</td>\n",
       "      <td>69.103281</td>\n",
       "      <td>69.103281</td>\n",
       "      <td>0.000000</td>\n",
       "    </tr>\n",
       "    <tr>\n",
       "      <th>1</th>\n",
       "      <td>Austria</td>\n",
       "      <td>AUT</td>\n",
       "      <td>1986</td>\n",
       "      <td>69.209072</td>\n",
       "      <td>0.000000</td>\n",
       "      <td>0.000000</td>\n",
       "      <td>69.209072</td>\n",
       "      <td>72.092419</td>\n",
       "      <td>72.092419</td>\n",
       "      <td>-2.883347</td>\n",
       "    </tr>\n",
       "    <tr>\n",
       "      <th>2</th>\n",
       "      <td>Austria</td>\n",
       "      <td>AUT</td>\n",
       "      <td>1987</td>\n",
       "      <td>70.050261</td>\n",
       "      <td>0.000000</td>\n",
       "      <td>0.000000</td>\n",
       "      <td>70.050261</td>\n",
       "      <td>71.843317</td>\n",
       "      <td>71.843317</td>\n",
       "      <td>-1.793056</td>\n",
       "    </tr>\n",
       "    <tr>\n",
       "      <th>3</th>\n",
       "      <td>Austria</td>\n",
       "      <td>AUT</td>\n",
       "      <td>1988</td>\n",
       "      <td>72.013887</td>\n",
       "      <td>0.000000</td>\n",
       "      <td>0.000000</td>\n",
       "      <td>72.013887</td>\n",
       "      <td>74.149494</td>\n",
       "      <td>74.149494</td>\n",
       "      <td>-2.135607</td>\n",
       "    </tr>\n",
       "    <tr>\n",
       "      <th>4</th>\n",
       "      <td>Austria</td>\n",
       "      <td>AUT</td>\n",
       "      <td>1989</td>\n",
       "      <td>69.921533</td>\n",
       "      <td>0.000000</td>\n",
       "      <td>0.000000</td>\n",
       "      <td>69.921533</td>\n",
       "      <td>72.122773</td>\n",
       "      <td>72.122773</td>\n",
       "      <td>-2.201240</td>\n",
       "    </tr>\n",
       "    <tr>\n",
       "      <th>...</th>\n",
       "      <td>...</td>\n",
       "      <td>...</td>\n",
       "      <td>...</td>\n",
       "      <td>...</td>\n",
       "      <td>...</td>\n",
       "      <td>...</td>\n",
       "      <td>...</td>\n",
       "      <td>...</td>\n",
       "      <td>...</td>\n",
       "      <td>...</td>\n",
       "    </tr>\n",
       "    <tr>\n",
       "      <th>929</th>\n",
       "      <td>World</td>\n",
       "      <td>OWID_WRL</td>\n",
       "      <td>2016</td>\n",
       "      <td>16.800175</td>\n",
       "      <td>1.377463</td>\n",
       "      <td>4.008043</td>\n",
       "      <td>22.185682</td>\n",
       "      <td>24.661661</td>\n",
       "      <td>24.661661</td>\n",
       "      <td>-2.475979</td>\n",
       "    </tr>\n",
       "    <tr>\n",
       "      <th>930</th>\n",
       "      <td>World</td>\n",
       "      <td>OWID_WRL</td>\n",
       "      <td>2017</td>\n",
       "      <td>16.586864</td>\n",
       "      <td>1.804265</td>\n",
       "      <td>4.619666</td>\n",
       "      <td>23.010794</td>\n",
       "      <td>25.543013</td>\n",
       "      <td>25.543013</td>\n",
       "      <td>-2.532219</td>\n",
       "    </tr>\n",
       "    <tr>\n",
       "      <th>931</th>\n",
       "      <td>World</td>\n",
       "      <td>OWID_WRL</td>\n",
       "      <td>2018</td>\n",
       "      <td>16.468280</td>\n",
       "      <td>2.241461</td>\n",
       "      <td>4.953471</td>\n",
       "      <td>23.663213</td>\n",
       "      <td>26.260468</td>\n",
       "      <td>26.260468</td>\n",
       "      <td>-2.597255</td>\n",
       "    </tr>\n",
       "    <tr>\n",
       "      <th>932</th>\n",
       "      <td>World</td>\n",
       "      <td>OWID_WRL</td>\n",
       "      <td>2019</td>\n",
       "      <td>16.452792</td>\n",
       "      <td>2.718259</td>\n",
       "      <td>5.470879</td>\n",
       "      <td>24.641929</td>\n",
       "      <td>27.278541</td>\n",
       "      <td>27.278541</td>\n",
       "      <td>-2.636612</td>\n",
       "    </tr>\n",
       "    <tr>\n",
       "      <th>933</th>\n",
       "      <td>World</td>\n",
       "      <td>OWID_WRL</td>\n",
       "      <td>2020</td>\n",
       "      <td>16.847409</td>\n",
       "      <td>3.266494</td>\n",
       "      <td>6.151622</td>\n",
       "      <td>26.265525</td>\n",
       "      <td>28.984635</td>\n",
       "      <td>28.984635</td>\n",
       "      <td>-2.719109</td>\n",
       "    </tr>\n",
       "  </tbody>\n",
       "</table>\n",
       "<p>934 rows × 10 columns</p>\n",
       "</div>"
      ],
      "text/plain": [
       "      Entity      Code  Year      Hydro     Solar      Wind  total_explained  \\\n",
       "0    Austria       AUT  1985  69.103281  0.000000  0.000000        69.103281   \n",
       "1    Austria       AUT  1986  69.209072  0.000000  0.000000        69.209072   \n",
       "2    Austria       AUT  1987  70.050261  0.000000  0.000000        70.050261   \n",
       "3    Austria       AUT  1988  72.013887  0.000000  0.000000        72.013887   \n",
       "4    Austria       AUT  1989  69.921533  0.000000  0.000000        69.921533   \n",
       "..       ...       ...   ...        ...       ...       ...              ...   \n",
       "929    World  OWID_WRL  2016  16.800175  1.377463  4.008043        22.185682   \n",
       "930    World  OWID_WRL  2017  16.586864  1.804265  4.619666        23.010794   \n",
       "931    World  OWID_WRL  2018  16.468280  2.241461  4.953471        23.663213   \n",
       "932    World  OWID_WRL  2019  16.452792  2.718259  5.470879        24.641929   \n",
       "933    World  OWID_WRL  2020  16.847409  3.266494  6.151622        26.265525   \n",
       "\n",
       "     Percentage_x  Percentage_y  total_unexplained  \n",
       "0       69.103281     69.103281           0.000000  \n",
       "1       72.092419     72.092419          -2.883347  \n",
       "2       71.843317     71.843317          -1.793056  \n",
       "3       74.149494     74.149494          -2.135607  \n",
       "4       72.122773     72.122773          -2.201240  \n",
       "..            ...           ...                ...  \n",
       "929     24.661661     24.661661          -2.475979  \n",
       "930     25.543013     25.543013          -2.532219  \n",
       "931     26.260468     26.260468          -2.597255  \n",
       "932     27.278541     27.278541          -2.636612  \n",
       "933     28.984635     28.984635          -2.719109  \n",
       "\n",
       "[934 rows x 10 columns]"
      ]
     },
     "execution_count": 161,
     "metadata": {},
     "output_type": "execute_result"
    }
   ],
   "source": [
    "share"
   ]
  },
  {
   "cell_type": "code",
   "execution_count": 157,
   "metadata": {
    "collapsed": false,
    "jupyter": {
     "outputs_hidden": false
    },
    "pycharm": {
     "name": "#%%\n"
    }
   },
   "outputs": [],
   "source": [
    "share = pd.merge(share, eletricity_share, how=\"inner\",left_on=['Entity','Year','Code'], right_on=['Entity','Year','Code'])"
   ]
  },
  {
   "cell_type": "code",
   "execution_count": 160,
   "metadata": {
    "collapsed": false,
    "jupyter": {
     "outputs_hidden": false
    },
    "pycharm": {
     "name": "#%%\n"
    }
   },
   "outputs": [],
   "source": [
    "share[\"total_unexplained\"] = share.apply(lambda row: row.total_explained - row.Percentage_x, axis=1)"
   ]
  },
  {
   "cell_type": "code",
   "execution_count": null,
   "metadata": {
    "collapsed": false,
    "jupyter": {
     "outputs_hidden": false
    },
    "pycharm": {
     "name": "#%%\n"
    }
   },
   "outputs": [],
   "source": []
  }
 ],
 "metadata": {
  "kernelspec": {
   "display_name": "Python 3",
   "language": "python",
   "name": "python3"
  },
  "language_info": {
   "codemirror_mode": {
    "name": "ipython",
    "version": 3
   },
   "file_extension": ".py",
   "mimetype": "text/x-python",
   "name": "python",
   "nbconvert_exporter": "python",
   "pygments_lexer": "ipython3",
   "version": "3.8.5"
  }
 },
 "nbformat": 4,
 "nbformat_minor": 4
}